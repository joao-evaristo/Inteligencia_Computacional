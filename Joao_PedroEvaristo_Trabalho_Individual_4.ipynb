{
  "nbformat": 4,
  "nbformat_minor": 0,
  "metadata": {
    "colab": {
      "provenance": []
    },
    "kernelspec": {
      "name": "python3",
      "display_name": "Python 3"
    },
    "language_info": {
      "name": "python"
    }
  },
  "cells": [
    {
      "cell_type": "markdown",
      "source": [
        "# **Trabalho prático Arvore de Decisão, Modelo Linear para Classificação -- Lasso e Redes Neurais Artificiais**\n",
        "\n",
        "1- Carregar a base IRIS;\n",
        "2- Separar a base em Treino (50%) e Teste (50%);\n",
        "3-\n",
        "Repartir Treino em 10 partes escolhidas aleatoriamente, ou seja, cada\n",
        "parte Pi terá 10% da quantidade de exemplos do Treino. Lembre-se que\n",
        "Pi+1 = Pi + 10% dos dados de Treino;\n",
        "Para cada Pi faça:\n",
        "\n",
        "      4- Treinar/Ajustar Árvores de Decisão, Rígido, Logístico e RNA i utilizando de Pi;\n",
        "      5- Classificar/Predizer o conjunto Teste\n",
        "      6- Calcular acurácia da árvore i  na predição do Teste;\n",
        "\n",
        "7- Criar um gráfico de linha para cada modelo de aprendizagem (árvore de decisão, Linear e RNA), onde eixo x é o Pi (tamanho do conjunto de treino) e eixo y será a acurácia obtida pela árvore i.\n",
        "\n",
        "8- Calcular a acurácia média e o desvio padrão para cada método e plotar esses 4 resultados em gráfico candle stick. Onde x são os métodos e y estão as acurácias."
      ],
      "metadata": {
        "id": "Fdf42S-9lvNl"
      }
    },
    {
      "cell_type": "markdown",
      "source": [
        "Primeiramente, é necessário separar os conjuntos de treino e teste conforme o estipulado. Dessa forma, Pi = Pi-1 + 10% do conjunto."
      ],
      "metadata": {
        "id": "QG0vTU0EgP3N"
      }
    },
    {
      "cell_type": "code",
      "execution_count": null,
      "metadata": {
        "id": "Z0h1x1wm8OlT"
      },
      "outputs": [],
      "source": [
        "from random import choice\n",
        "from matplotlib import pyplot as plt\n",
        "from sklearn.datasets import load_iris\n",
        "from sklearn import tree\n",
        "from sklearn.metrics import accuracy_score\n",
        "from sklearn.model_selection import train_test_split\n",
        "from sklearn.linear_model import RidgeClassifier\n",
        "from sklearn.linear_model import LogisticRegression\n",
        "from sklearn.neural_network import MLPClassifier\n",
        "import numpy as np\n",
        "\n",
        "# Variaveis globais\n",
        "escolhidos = []\n",
        "acuracias_arvore = []\n",
        "acuracias_linear_rigido = []\n",
        "acuracias_regressao_logistica = []\n",
        "acuracias_mlp = []\n",
        "q_treinos = []\n",
        "pi_treinos = []\n",
        "pi_testes = []\n",
        "treino_aux = []\n",
        "teste_aux = []\n",
        "\n",
        "\n",
        "# Carrega base de dados\n",
        "X, y = load_iris(return_X_y=True)\n",
        "# Divide o treino e teste em 50% cada\n",
        "X_train, X_test, y_train, y_test = train_test_split(X, y, test_size=0.50, random_state=42)\n",
        "\n",
        "treinos = [[] for i in range(10)]\n",
        "teste = [[] for i in range(10)]\n",
        "\n",
        "# Separa os Pi, sendo Pi = Pi-1 + 10%\n",
        "for i in range(9):\n",
        "    for j in range(7):\n",
        "        numero_escolhido = choice([k for k in range(0, 75) if k not in escolhidos])\n",
        "        treinos[i].append(X_train[numero_escolhido])\n",
        "        teste[i].append(y_train[numero_escolhido])\n",
        "        escolhidos.append(numero_escolhido)\n",
        "    treino_aux.extend(treinos[i])\n",
        "    teste_aux.extend(teste[i])\n",
        "    pi_treinos.append(np.asarray(treino_aux))\n",
        "    pi_testes.append(np.asarray(teste_aux))\n",
        "\n",
        "for j in range(12):\n",
        "    numero_escolhido = choice([k for k in range(0, 75) if k not in escolhidos])\n",
        "    treinos[9].append(X_train[numero_escolhido])\n",
        "    teste[9].append(y_train[numero_escolhido])\n",
        "    escolhidos.append(numero_escolhido)\n",
        "treino_aux.extend(treinos[9])\n",
        "teste_aux.extend(teste[9])\n",
        "pi_treinos.append(np.asarray(treino_aux))\n",
        "pi_testes.append(np.asarray(teste_aux))"
      ]
    },
    {
      "cell_type": "markdown",
      "source": [
        "Agora, com os conjuntos separados, já é possível fazer o treino de cada modelo e obter as metricas de acurácia, média e desvio padrão."
      ],
      "metadata": {
        "id": "mGQ_1ac6gnOT"
      }
    },
    {
      "cell_type": "code",
      "source": [
        "# Faz os fits de cada Pi e guarda o resultado\n",
        "for Pi in range(10):\n",
        "    q_treinos.append(pi_treinos[Pi].shape[0])\n",
        "    clf = tree.DecisionTreeClassifier(criterion='gini')  # instancia o objeto da classe de árvore de decisão\n",
        "    clf = clf.fit(pi_treinos[Pi], pi_testes[Pi])  # cria a árvore\n",
        "    resposta = clf.predict(X_test)\n",
        "    acuracia = accuracy_score(resposta, y_test)\n",
        "    print(f'Arvore decisao: Acuracia de P{Pi} = {acuracia}')\n",
        "    acuracias_arvore.append(acuracia)\n",
        "med_arvore = np.mean(acuracias_arvore)\n",
        "desv_arvore = np.std(acuracias_arvore)\n",
        "\n",
        "for Pi in range(10):\n",
        "    clf = RidgeClassifier(random_state=0)  # instancia o objeto da classe de linear rigido\n",
        "    clf = clf.fit(pi_treinos[Pi], pi_testes[Pi]) # fita\n",
        "    acuracia = clf.score(X_test, y_test)\n",
        "    print(f'Linear rigido: Acuracia de P{Pi} = {acuracia}')\n",
        "    acuracias_linear_rigido.append(acuracia)\n",
        "med_linear = np.mean(acuracias_linear_rigido)\n",
        "desv_linear = np.std(acuracias_linear_rigido)\n",
        "\n",
        "for Pi in range(10):\n",
        "    clf = LogisticRegression(random_state=0, max_iter=120) # instancia o objeto da classe de regressao logistica\n",
        "    clf = clf.fit(pi_treinos[Pi], pi_testes[Pi]) # fita\n",
        "    acuracia = clf.score(X_test, y_test)\n",
        "    print(f'Regressao Logistica: Acuracia de P{Pi} = {acuracia}')\n",
        "    acuracias_regressao_logistica.append(acuracia)\n",
        "med_regressao = np.mean(acuracias_regressao_logistica)\n",
        "desv_regressao = np.std(acuracias_regressao_logistica)\n",
        "\n",
        "for Pi in range(10):\n",
        "    clf = MLPClassifier(solver='lbfgs', alpha=1e-5, hidden_layer_sizes=(15,), random_state=0, max_iter=200)\n",
        "    clf = clf.fit(pi_treinos[Pi], pi_testes[Pi])\n",
        "    acuracia = clf.score(X_test, y_test)\n",
        "    print(f'MLP: Acuracia de P{Pi} = {acuracia}')\n",
        "    acuracias_mlp.append(acuracia)\n",
        "med_mlp = np.mean(acuracias_mlp)\n",
        "desv_mlp = np.std(acuracias_mlp)"
      ],
      "metadata": {
        "colab": {
          "base_uri": "https://localhost:8080/"
        },
        "id": "ib8cR3ZPfgpN",
        "outputId": "b64aba12-33e3-4713-f1d9-be7b5519ab8c"
      },
      "execution_count": null,
      "outputs": [
        {
          "output_type": "stream",
          "name": "stdout",
          "text": [
            "Arvore decisao: Acuracia de P0 = 0.6666666666666666\n",
            "Arvore decisao: Acuracia de P1 = 0.96\n",
            "Arvore decisao: Acuracia de P2 = 0.9466666666666667\n",
            "Arvore decisao: Acuracia de P3 = 0.9466666666666667\n",
            "Arvore decisao: Acuracia de P4 = 0.9466666666666667\n",
            "Arvore decisao: Acuracia de P5 = 1.0\n",
            "Arvore decisao: Acuracia de P6 = 1.0\n",
            "Arvore decisao: Acuracia de P7 = 1.0\n",
            "Arvore decisao: Acuracia de P8 = 1.0\n",
            "Arvore decisao: Acuracia de P9 = 0.9466666666666667\n",
            "Linear rigido: Acuracia de P0 = 0.76\n",
            "Linear rigido: Acuracia de P1 = 0.84\n",
            "Linear rigido: Acuracia de P2 = 0.88\n",
            "Linear rigido: Acuracia de P3 = 0.8666666666666667\n",
            "Linear rigido: Acuracia de P4 = 0.8266666666666667\n",
            "Linear rigido: Acuracia de P5 = 0.76\n",
            "Linear rigido: Acuracia de P6 = 0.7866666666666666\n",
            "Linear rigido: Acuracia de P7 = 0.84\n",
            "Linear rigido: Acuracia de P8 = 0.8666666666666667\n",
            "Linear rigido: Acuracia de P9 = 0.8533333333333334\n",
            "Regressao Logistica: Acuracia de P0 = 0.8933333333333333\n",
            "Regressao Logistica: Acuracia de P1 = 0.9866666666666667\n",
            "Regressao Logistica: Acuracia de P2 = 1.0\n",
            "Regressao Logistica: Acuracia de P3 = 1.0\n",
            "Regressao Logistica: Acuracia de P4 = 1.0\n",
            "Regressao Logistica: Acuracia de P5 = 0.9866666666666667\n",
            "Regressao Logistica: Acuracia de P6 = 1.0\n",
            "Regressao Logistica: Acuracia de P7 = 1.0\n",
            "Regressao Logistica: Acuracia de P8 = 1.0\n",
            "Regressao Logistica: Acuracia de P9 = 1.0\n",
            "MLP: Acuracia de P0 = 0.92\n",
            "MLP: Acuracia de P1 = 0.92\n",
            "MLP: Acuracia de P2 = 0.92\n",
            "MLP: Acuracia de P3 = 0.9333333333333333\n",
            "MLP: Acuracia de P4 = 0.9333333333333333\n",
            "MLP: Acuracia de P5 = 0.9733333333333334\n",
            "MLP: Acuracia de P6 = 0.9866666666666667\n",
            "MLP: Acuracia de P7 = 0.9866666666666667\n",
            "MLP: Acuracia de P8 = 0.9866666666666667\n",
            "MLP: Acuracia de P9 = 0.96\n"
          ]
        }
      ]
    },
    {
      "cell_type": "markdown",
      "source": [
        "Em seguida, podemos apresentar os resultados nos gráficos."
      ],
      "metadata": {
        "id": "1td7rRZmhG15"
      }
    },
    {
      "cell_type": "code",
      "source": [
        "# Plota o grafico\n",
        "plt.plot(q_treinos, acuracias_arvore, marker='o')\n",
        "plt.plot(q_treinos, acuracias_linear_rigido, marker='s')\n",
        "plt.plot(q_treinos, acuracias_regressao_logistica, marker='^')\n",
        "plt.plot(q_treinos, acuracias_mlp, marker='D')\n",
        "plt.ylim([0.5, 1])\n",
        "plt.legend(['Arvore', 'Linear Rigido', 'Regressao Logistica', 'MLP'])\n",
        "plt.title('Acuracia X Tamanho treino')\n",
        "plt.xlabel('Tamanho treino')\n",
        "plt.ylabel('Acuracia')\n",
        "plt.show()"
      ],
      "metadata": {
        "colab": {
          "base_uri": "https://localhost:8080/",
          "height": 295
        },
        "id": "estK8HfagiMb",
        "outputId": "6f1eebfa-23a9-4091-f230-12377a84226f"
      },
      "execution_count": null,
      "outputs": [
        {
          "output_type": "display_data",
          "data": {
            "text/plain": [
              "<Figure size 432x288 with 1 Axes>"
            ],
            "image/png": "[encoded data removed]"
          },
          "metadata": {
            "needs_background": "light"
          }
        }
      ]
    },
    {
      "cell_type": "markdown",
      "source": [
        "Com os resultados, tanto analisando a acurácia quanto o gráfico, e possível notar que uma quantidade pequena do conjunto de treino não e muito eficiente quando se olha para sua acurácia. O contrário, um conjunto de treino grande, também não significa um resultado melhor, vista que a curva de aprendizado atinge um pico e cai.\n",
        "\n",
        "Comparando os modelos aplicados, também é possível notar que a regressão logistíca, em geral, se saiu melhor que os outros métodos, tendo apresentado um resultado mais consistente durante as rodadas. Do outro lado, o modelo linear rígido foi o que apresentou o pior desempenho. Os demais, na média, apresentaram um resultado parecido com a regressão logística, com uma acuracia um pouco menor na média."
      ],
      "metadata": {
        "id": "D6h3sEK2ltAR"
      }
    }
  ]
}