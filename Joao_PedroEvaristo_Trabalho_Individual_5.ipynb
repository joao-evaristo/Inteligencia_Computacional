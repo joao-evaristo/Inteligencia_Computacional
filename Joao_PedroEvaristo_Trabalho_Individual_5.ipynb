{
  "cells": [
    {
      "cell_type": "markdown",
      "metadata": {
        "id": "1dMaXWiMohzQ"
      },
      "source": [
        " # **Trabalho Individual 5 (Aprendizado Profundo)**\n",
        "\n",
        " Para realizar o carregamento da base utilizado nos experimentos, realizar o treinamento e os testes com os modelos, utilizei o framework Pytorch baseado no código do [Tutorial Pytorch](https://pytorch-tutorial.readthedocs.io/en/latest/tutorial/chapter03_intermediate/3_2_2_cnn_resnet_cifar10/). Este é o código principal:"
      ]
    },
    {
      "cell_type": "code",
      "execution_count": null,
      "metadata": {
        "colab": {
          "base_uri": "https://localhost:8080/"
        },
        "id": "132HXRbjAtwg",
        "outputId": "b12a3a47-e68b-4daa-abcc-e90acbefc96c"
      },
      "outputs": [
        {
          "output_type": "stream",
          "name": "stdout",
          "text": [
            "Files already downloaded and verified\n",
            "Files already downloaded and verified\n"
          ]
        }
      ],
      "source": [
        "import torch\n",
        "import torch.nn as nn\n",
        "import torchvision\n",
        "import torchvision.transforms as transforms\n",
        "import torchvision.models as models\n",
        "from matplotlib import pyplot as plt\n",
        "\n",
        "lista_alexnet = []\n",
        "lista_vgg = []\n",
        "lista_inception = []\n",
        "lista_resnet = []\n",
        "# Device configuration\n",
        "device = torch.device('cuda' if torch.cuda.is_available() else 'cpu')\n",
        "\n",
        "# Hyper-parameters\n",
        "num_epochs = 5\n",
        "learning_rate = 0.001\n",
        "\n",
        "# Image preprocessing modules\n",
        "transform_train = transforms.Compose([\n",
        "    transforms.Resize(224),\n",
        "    transforms.RandomHorizontalFlip(),\n",
        "    transforms.ToTensor(),\n",
        "    transforms.Normalize((0.4914, 0.4822, 0.4465), (0.2023, 0.1994, 0.2010)),\n",
        "])\n",
        "\n",
        "transform_test = transforms.Compose([\n",
        "    transforms.Resize(224),\n",
        "    transforms.ToTensor(),\n",
        "    transforms.Normalize((0.4914, 0.4822, 0.4465), (0.2023, 0.1994, 0.2010)),\n",
        "])\n",
        "\n",
        "# CIFAR-10 dataset\n",
        "train_dataset = torchvision.datasets.CIFAR10(root='../../data/',\n",
        "                                             train=True,\n",
        "                                             transform=transform_train,\n",
        "                                             download=True)\n",
        "\n",
        "test_dataset = torchvision.datasets.CIFAR10(root='../../data/',\n",
        "                                            train=False,\n",
        "                                            transform=transform_test)\n",
        "\n",
        "# Data loader\n",
        "train_loader = torch.utils.data.DataLoader(dataset=train_dataset,\n",
        "                                           batch_size=64,\n",
        "                                           shuffle=True)\n",
        "\n",
        "test_loader = torch.utils.data.DataLoader(dataset=test_dataset,\n",
        "                                          batch_size=64,\n",
        "                                          shuffle=False)\n",
        "\n",
        "# No caso da inception, é necessário fazer alterações no tamanho da imagem\n",
        "\n",
        "transform_train_inception = transforms.Compose([\n",
        "    transforms.Resize(size=(299, 299)),\n",
        "    transforms.RandomHorizontalFlip(),\n",
        "    transforms.ToTensor(),\n",
        "    transforms.Normalize((0.4914, 0.4822, 0.4465), (0.2023, 0.1994, 0.2010)),\n",
        "])\n",
        "\n",
        "transform_test_inception = transforms.Compose([\n",
        "    transforms.Resize(size=(299, 299)),\n",
        "    transforms.ToTensor(),\n",
        "    transforms.Normalize((0.4914, 0.4822, 0.4465), (0.2023, 0.1994, 0.2010)),\n",
        "])\n",
        "# CIFAR-10 dataset inception\n",
        "train_dataset_inception = torchvision.datasets.CIFAR10(root='../../data/',\n",
        "                                                       train=True,\n",
        "                                                       transform=transform_train_inception,\n",
        "                                                       download=True)\n",
        "\n",
        "test_dataset_inception = torchvision.datasets.CIFAR10(root='../../data/',\n",
        "                                                      train=False,\n",
        "                                                      transform=transform_test)\n",
        "\n",
        "# Data loader\n",
        "train_loader_inception = torch.utils.data.DataLoader(dataset=train_dataset_inception,\n",
        "                                                     batch_size=64,\n",
        "                                                     shuffle=True)\n",
        "\n",
        "test_loader_inception = torch.utils.data.DataLoader(dataset=test_dataset_inception,\n",
        "                                                    batch_size=64,\n",
        "                                                    shuffle=False)\n",
        "\n",
        "\n",
        "def modelo(tipo, pretrained):\n",
        "    if tipo == 'AlexNet':\n",
        "        model = models.alexnet(pretrained=pretrained)\n",
        "        num_classes = 10\n",
        "        num_ftrs = model.classifier[6].in_features\n",
        "        model.classifier[6] = nn.Linear(num_ftrs, num_classes)\n",
        "    elif tipo == 'Inception v3':\n",
        "        model = models.inception_v3(pretrained=pretrained)\n",
        "        model.aux_logits = False\n",
        "    elif tipo == 'Vgg16':\n",
        "        model = models.vgg16(pretrained=pretrained)\n",
        "        num_classes = 10\n",
        "        num_ftrs = model.classifier[6].in_features\n",
        "        model.classifier[6] = nn.Linear(num_ftrs, num_classes)\n",
        "    elif tipo == 'ResNet18':\n",
        "        model = models.resnet18(pretrained=pretrained)\n",
        "        num_classes = 10\n",
        "        num_ftrs = model.fc.in_features\n",
        "        model.fc = nn.Linear(num_ftrs, num_classes)\n",
        "    if torch.cuda.is_available():\n",
        "        model.cuda()\n",
        "    return model\n",
        "\n",
        "\n",
        "def aprendizado(model):\n",
        "    # Loss and optimizer\n",
        "    model_name = model.__class__.__name__\n",
        "    if model_name == 'AlexNet':\n",
        "        lista = lista_alexnet\n",
        "        train = train_loader\n",
        "        test = test_loader\n",
        "    elif model_name == 'VGG':\n",
        "        lista = lista_vgg\n",
        "        train = train_loader\n",
        "        test = test_loader\n",
        "    elif model_name == 'Inception3':\n",
        "        lista = lista_inception\n",
        "        train = train_loader_inception\n",
        "        test = test_loader_inception\n",
        "    elif model_name == 'ResNet':\n",
        "        lista = lista_resnet\n",
        "        train = train_loader\n",
        "        test = test_loader\n",
        "    criterion = nn.CrossEntropyLoss()\n",
        "    optimizer = torch.optim.SGD(model.parameters(), lr=learning_rate)\n",
        "\n",
        "    # For updating learning rate\n",
        "    def update_lr(optimizer, lr):\n",
        "        for param_group in optimizer.param_groups:\n",
        "            param_group['lr'] = lr\n",
        "\n",
        "    # Train the model\n",
        "    total_step = len(train)\n",
        "    curr_lr = learning_rate\n",
        "    for epoch in range(num_epochs):\n",
        "        for i, (images, labels) in enumerate(train):\n",
        "            images = images.to(device)\n",
        "            labels = labels.to(device)\n",
        "\n",
        "            # Forward pass\n",
        "\n",
        "            outputs = model(images)\n",
        "            loss = criterion(outputs, labels)\n",
        "\n",
        "            # Backward and optimize\n",
        "            optimizer.zero_grad()\n",
        "            loss.backward()\n",
        "            optimizer.step()\n",
        "\n",
        "            if (i + 1) % 100 == 0:\n",
        "                print(f\"Epoca [{epoch + 1}/{num_epochs}], Passo [{i + 1}/{total_step}] Loss: {loss.item():.4f}\")\n",
        "\n",
        "        # Decay learning rate\n",
        "        if (epoch + 1) % 20 == 0:\n",
        "            curr_lr /= 3\n",
        "            update_lr(optimizer, curr_lr)\n",
        "        # Test the model\n",
        "        model.eval()\n",
        "        with torch.no_grad():\n",
        "            correct = 0\n",
        "            total = 0\n",
        "            for images, labels in test:\n",
        "                images = images.to(device)\n",
        "                labels = labels.to(device)\n",
        "                outputs = model(images)\n",
        "                _, predicted = torch.max(outputs.data, 1)\n",
        "                total += labels.size(0)\n",
        "                correct += (predicted == labels).sum().item()\n",
        "            accuracy = 100 * correct / total\n",
        "            lista.append(accuracy)\n",
        "            print(f'Acuracia do modelo {model_name}: {accuracy} %')\n",
        "\n",
        "\n",
        "# apenas as 3 ultimas camadas serao descongeladas\n",
        "def descongela_ultimas_camadas(modelo):\n",
        "    camadas = sum(1 for e in modelo.parameters())\n",
        "    for param in modelo.parameters():\n",
        "        if camadas <= 3:\n",
        "            try:\n",
        "                param.requires_grad = False\n",
        "            except:\n",
        "                pass\n",
        "\n",
        "\n",
        "def plota_grafico(acuracias_alexnet, acuracias_inception, acuracias_vgg, acuracias_resnet):\n",
        "    q_acuracia = [1, 2, 3, 4, 5]\n",
        "    # Plota o grafico\n",
        "    plt.plot(q_acuracia, acuracias_alexnet, marker='o')\n",
        "    plt.plot(q_acuracia, acuracias_inception, marker='*')\n",
        "    plt.plot(q_acuracia, acuracias_vgg, marker='s')\n",
        "    plt.plot(q_acuracia, acuracias_resnet, marker='^')\n",
        "    plt.ylim([50, 100])\n",
        "    plt.legend(['AlexNet', 'Inception', 'Vgg', 'Resnet'])\n",
        "    plt.title('Acuracia X Epoca')\n",
        "    plt.xlabel('Epoca')\n",
        "    plt.ylabel('Acuracia')\n",
        "    plt.show()"
      ]
    },
    {
      "cell_type": "markdown",
      "metadata": {
        "id": "hxgDwLg_1TM8"
      },
      "source": [
        "1-Comparar 4 redes CNN pré-treinadas na Imagenet (AlexNet, Inception v3, Vgg16 e ResNet18) e plotar seus resultados de acurácia para CIFAR10. Importante saber que vocês precisarão substituir a última camada de cada CNN com uma camada com apenas 10 classes;"
      ]
    },
    {
      "cell_type": "code",
      "execution_count": null,
      "metadata": {
        "colab": {
          "base_uri": "https://localhost:8080/"
        },
        "id": "_iESnfUXAvi7",
        "outputId": "2d72ec11-e824-4bb3-c85d-c602d58152ae"
      },
      "outputs": [
        {
          "name": "stderr",
          "output_type": "stream",
          "text": [
            "/usr/local/lib/python3.8/dist-packages/torchvision/models/_utils.py:208: UserWarning: The parameter 'pretrained' is deprecated since 0.13 and may be removed in the future, please use 'weights' instead.\n",
            "  warnings.warn(\n",
            "/usr/local/lib/python3.8/dist-packages/torchvision/models/_utils.py:223: UserWarning: Arguments other than a weight enum or `None` for 'weights' are deprecated since 0.13 and may be removed in the future. The current behavior is equivalent to passing `weights=AlexNet_Weights.IMAGENET1K_V1`. You can also use `weights=AlexNet_Weights.DEFAULT` to get the most up-to-date weights.\n",
            "  warnings.warn(msg)\n"
          ]
        },
        {
          "name": "stdout",
          "output_type": "stream",
          "text": [
            "Epoca [1/5], Passo [100/782] Loss: 1.1581\n",
            "Epoca [1/5], Passo [200/782] Loss: 0.9580\n",
            "Epoca [1/5], Passo [300/782] Loss: 0.6005\n",
            "Epoca [1/5], Passo [400/782] Loss: 0.6393\n",
            "Epoca [1/5], Passo [500/782] Loss: 0.7087\n",
            "Epoca [1/5], Passo [600/782] Loss: 0.5260\n",
            "Epoca [1/5], Passo [700/782] Loss: 0.6313\n",
            "Acuracia do modelo AlexNet: 80.79 %\n",
            "Epoca [2/5], Passo [100/782] Loss: 0.4907\n",
            "Epoca [2/5], Passo [200/782] Loss: 0.5653\n",
            "Epoca [2/5], Passo [300/782] Loss: 0.5510\n",
            "Epoca [2/5], Passo [400/782] Loss: 0.2925\n",
            "Epoca [2/5], Passo [500/782] Loss: 0.5340\n",
            "Epoca [2/5], Passo [600/782] Loss: 0.4135\n",
            "Epoca [2/5], Passo [700/782] Loss: 0.4026\n",
            "Acuracia do modelo AlexNet: 84.91 %\n",
            "Epoca [3/5], Passo [100/782] Loss: 0.3360\n",
            "Epoca [3/5], Passo [200/782] Loss: 0.4592\n",
            "Epoca [3/5], Passo [300/782] Loss: 0.2945\n",
            "Epoca [3/5], Passo [400/782] Loss: 0.4810\n",
            "Epoca [3/5], Passo [500/782] Loss: 0.2723\n",
            "Epoca [3/5], Passo [600/782] Loss: 0.5123\n",
            "Epoca [3/5], Passo [700/782] Loss: 0.3623\n",
            "Acuracia do modelo AlexNet: 85.88 %\n",
            "Epoca [4/5], Passo [100/782] Loss: 0.5163\n",
            "Epoca [4/5], Passo [200/782] Loss: 0.3251\n",
            "Epoca [4/5], Passo [300/782] Loss: 0.3833\n",
            "Epoca [4/5], Passo [400/782] Loss: 0.3766\n",
            "Epoca [4/5], Passo [500/782] Loss: 0.4014\n",
            "Epoca [4/5], Passo [600/782] Loss: 0.3143\n",
            "Epoca [4/5], Passo [700/782] Loss: 0.3078\n",
            "Acuracia do modelo AlexNet: 85.16 %\n",
            "Epoca [5/5], Passo [100/782] Loss: 0.3160\n",
            "Epoca [5/5], Passo [200/782] Loss: 0.2333\n",
            "Epoca [5/5], Passo [300/782] Loss: 0.3204\n",
            "Epoca [5/5], Passo [400/782] Loss: 0.2229\n",
            "Epoca [5/5], Passo [500/782] Loss: 0.1603\n",
            "Epoca [5/5], Passo [600/782] Loss: 0.4122\n",
            "Epoca [5/5], Passo [700/782] Loss: 0.3494\n",
            "Acuracia do modelo AlexNet: 86.11 %\n"
          ]
        }
      ],
      "source": [
        "alexnet = modelo('AlexNet', True)\n",
        "aprendizado(alexnet)"
      ]
    },
    {
      "cell_type": "code",
      "execution_count": null,
      "metadata": {
        "colab": {
          "base_uri": "https://localhost:8080/"
        },
        "id": "Bsk4e1crWP2Y",
        "outputId": "8716f241-c159-47c0-8e16-f8da7c06ed6b"
      },
      "outputs": [
        {
          "name": "stderr",
          "output_type": "stream",
          "text": [
            "/usr/local/lib/python3.8/dist-packages/torchvision/models/_utils.py:208: UserWarning: The parameter 'pretrained' is deprecated since 0.13 and may be removed in the future, please use 'weights' instead.\n",
            "  warnings.warn(\n",
            "/usr/local/lib/python3.8/dist-packages/torchvision/models/_utils.py:223: UserWarning: Arguments other than a weight enum or `None` for 'weights' are deprecated since 0.13 and may be removed in the future. The current behavior is equivalent to passing `weights=Inception_V3_Weights.IMAGENET1K_V1`. You can also use `weights=Inception_V3_Weights.DEFAULT` to get the most up-to-date weights.\n",
            "  warnings.warn(msg)\n"
          ]
        },
        {
          "name": "stdout",
          "output_type": "stream",
          "text": [
            "Epoca [1/5], Passo [100/782] Loss: 4.7340\n",
            "Epoca [1/5], Passo [200/782] Loss: 2.4254\n",
            "Epoca [1/5], Passo [300/782] Loss: 1.5766\n",
            "Epoca [1/5], Passo [400/782] Loss: 0.9810\n",
            "Epoca [1/5], Passo [500/782] Loss: 0.7923\n",
            "Epoca [1/5], Passo [600/782] Loss: 0.8939\n",
            "Epoca [1/5], Passo [700/782] Loss: 0.9499\n",
            "Acuracia do modelo Inception3: 75.67 %\n",
            "Epoca [2/5], Passo [100/782] Loss: 0.2626\n",
            "Epoca [2/5], Passo [200/782] Loss: 0.2003\n",
            "Epoca [2/5], Passo [300/782] Loss: 0.2966\n",
            "Epoca [2/5], Passo [400/782] Loss: 0.2686\n",
            "Epoca [2/5], Passo [500/782] Loss: 0.5900\n",
            "Epoca [2/5], Passo [600/782] Loss: 0.4086\n",
            "Epoca [2/5], Passo [700/782] Loss: 0.1919\n",
            "Acuracia do modelo Inception3: 89.06 %\n",
            "Epoca [3/5], Passo [100/782] Loss: 0.2146\n",
            "Epoca [3/5], Passo [200/782] Loss: 0.1002\n",
            "Epoca [3/5], Passo [300/782] Loss: 0.2456\n",
            "Epoca [3/5], Passo [400/782] Loss: 0.2393\n",
            "Epoca [3/5], Passo [500/782] Loss: 0.1240\n",
            "Epoca [3/5], Passo [600/782] Loss: 0.1320\n",
            "Epoca [3/5], Passo [700/782] Loss: 0.1220\n",
            "Acuracia do modelo Inception3: 90.77 %\n",
            "Epoca [4/5], Passo [100/782] Loss: 0.1590\n",
            "Epoca [4/5], Passo [200/782] Loss: 0.0909\n",
            "Epoca [4/5], Passo [300/782] Loss: 0.1509\n",
            "Epoca [4/5], Passo [400/782] Loss: 0.0890\n",
            "Epoca [4/5], Passo [500/782] Loss: 0.1099\n",
            "Epoca [4/5], Passo [600/782] Loss: 0.1801\n",
            "Epoca [4/5], Passo [700/782] Loss: 0.0392\n",
            "Acuracia do modelo Inception3: 92.12 %\n",
            "Epoca [5/5], Passo [100/782] Loss: 0.0863\n",
            "Epoca [5/5], Passo [200/782] Loss: 0.1830\n",
            "Epoca [5/5], Passo [300/782] Loss: 0.1099\n",
            "Epoca [5/5], Passo [400/782] Loss: 0.2310\n",
            "Epoca [5/5], Passo [500/782] Loss: 0.0983\n",
            "Epoca [5/5], Passo [600/782] Loss: 0.0834\n",
            "Epoca [5/5], Passo [700/782] Loss: 0.0573\n",
            "Acuracia do modelo Inception3: 91.83 %\n"
          ]
        }
      ],
      "source": [
        "inception = modelo('Inception v3', True)\n",
        "aprendizado(inception)"
      ]
    },
    {
      "cell_type": "code",
      "execution_count": null,
      "metadata": {
        "colab": {
          "base_uri": "https://localhost:8080/",
          "height": 815,
          "referenced_widgets": [
            "0a5f3f56cc824e5080554585c76d5b11",
            "e3a2d1c43d7545f1a9bc42bcd71e2c8f",
            "abf6bd27229a4433a7fb7e1eb0eb8e82",
            "666a7bd57a3e4b99919480d18de95db8",
            "99b459086caa4fff91506d31a3dfd22e",
            "ee45e1da8f8846079269e508c0371686",
            "81d22ffd385448b7b29b81bf7c90c1a9",
            "9e3303ca822f4081a2fc3cee4ae9ba46",
            "0a6c4442a841446aa187eec0e73fbcc7",
            "8f963d2af06c4741bd55b90f4a0df21c",
            "bf497ef4024941ac868d45deb9e44c6d"
          ]
        },
        "id": "Jtu7wxnxAyei",
        "outputId": "11b3a751-c564-465b-9863-4d927d70eba1"
      },
      "outputs": [
        {
          "output_type": "stream",
          "name": "stderr",
          "text": [
            "/usr/local/lib/python3.8/dist-packages/torchvision/models/_utils.py:223: UserWarning: Arguments other than a weight enum or `None` for 'weights' are deprecated since 0.13 and may be removed in the future. The current behavior is equivalent to passing `weights=VGG16_Weights.IMAGENET1K_V1`. You can also use `weights=VGG16_Weights.DEFAULT` to get the most up-to-date weights.\n",
            "  warnings.warn(msg)\n",
            "Downloading: \"https://download.pytorch.org/models/vgg16-397923af.pth\" to /root/.cache/torch/hub/checkpoints/vgg16-397923af.pth\n"
          ]
        },
        {
          "output_type": "display_data",
          "data": {
            "text/plain": [
              "  0%|          | 0.00/528M [00:00<?, ?B/s]"
            ],
            "application/vnd.jupyter.widget-view+json": {
              "version_major": 2,
              "version_minor": 0,
              "model_id": "0a5f3f56cc824e5080554585c76d5b11"
            }
          },
          "metadata": {}
        },
        {
          "output_type": "stream",
          "name": "stdout",
          "text": [
            "Epoca [1/5], Passo [100/782] Loss: 1.1666\n",
            "Epoca [1/5], Passo [200/782] Loss: 0.5685\n",
            "Epoca [1/5], Passo [300/782] Loss: 0.6128\n",
            "Epoca [1/5], Passo [400/782] Loss: 0.3816\n",
            "Epoca [1/5], Passo [500/782] Loss: 0.5205\n",
            "Epoca [1/5], Passo [600/782] Loss: 0.5778\n",
            "Epoca [1/5], Passo [700/782] Loss: 0.3412\n",
            "Acuracia do modelo VGG: 86.23 %\n",
            "Epoca [2/5], Passo [100/782] Loss: 0.4067\n",
            "Epoca [2/5], Passo [200/782] Loss: 0.2873\n",
            "Epoca [2/5], Passo [300/782] Loss: 0.3308\n",
            "Epoca [2/5], Passo [400/782] Loss: 0.2661\n",
            "Epoca [2/5], Passo [500/782] Loss: 0.2959\n",
            "Epoca [2/5], Passo [600/782] Loss: 0.3030\n",
            "Epoca [2/5], Passo [700/782] Loss: 0.0830\n",
            "Acuracia do modelo VGG: 89.03 %\n",
            "Epoca [3/5], Passo [100/782] Loss: 0.2438\n",
            "Epoca [3/5], Passo [200/782] Loss: 0.4986\n",
            "Epoca [3/5], Passo [300/782] Loss: 0.2482\n",
            "Epoca [3/5], Passo [400/782] Loss: 0.2694\n",
            "Epoca [3/5], Passo [500/782] Loss: 0.2830\n",
            "Epoca [3/5], Passo [600/782] Loss: 0.3385\n",
            "Epoca [3/5], Passo [700/782] Loss: 0.1953\n",
            "Acuracia do modelo VGG: 90.12 %\n",
            "Epoca [4/5], Passo [100/782] Loss: 0.2243\n",
            "Epoca [4/5], Passo [200/782] Loss: 0.2466\n",
            "Epoca [4/5], Passo [300/782] Loss: 0.2172\n",
            "Epoca [4/5], Passo [400/782] Loss: 0.2271\n",
            "Epoca [4/5], Passo [500/782] Loss: 0.2519\n",
            "Epoca [4/5], Passo [600/782] Loss: 0.1525\n",
            "Epoca [4/5], Passo [700/782] Loss: 0.2069\n",
            "Acuracia do modelo VGG: 90.37 %\n",
            "Epoca [5/5], Passo [100/782] Loss: 0.1596\n",
            "Epoca [5/5], Passo [200/782] Loss: 0.1321\n",
            "Epoca [5/5], Passo [300/782] Loss: 0.1271\n",
            "Epoca [5/5], Passo [400/782] Loss: 0.2596\n",
            "Epoca [5/5], Passo [500/782] Loss: 0.1914\n",
            "Epoca [5/5], Passo [600/782] Loss: 0.2328\n",
            "Epoca [5/5], Passo [700/782] Loss: 0.1602\n",
            "Acuracia do modelo VGG: 89.77 %\n"
          ]
        }
      ],
      "source": [
        "vgg = modelo('Vgg16', True)\n",
        "aprendizado(vgg)"
      ]
    },
    {
      "cell_type": "code",
      "execution_count": null,
      "metadata": {
        "colab": {
          "base_uri": "https://localhost:8080/",
          "height": 815,
          "referenced_widgets": [
            "c2227131211b48519be55666a2db5612",
            "8c6d077be8a44ee18f5a21ad54600741",
            "bfa871063bec4915ba3f3dd556c0c7c7",
            "23a51395236f417fb8a46e593394a536",
            "2a00b54928c340188b62ee416871c723",
            "a372980a7231463ca945757a40058348",
            "bfc181b6406a46d7938e9780197afea9",
            "4c79d4c86a2d42c996b07ce86cf9c748",
            "3804996adf7646c6b89510fb8ac1af82",
            "77b73b3907994067931b5d5c55602a30",
            "f2a8ee746a6b456bb0a4bc72a0cb6736"
          ]
        },
        "id": "IrEMsh5eAyUI",
        "outputId": "6948b901-510a-47d0-c99b-6b09ec4e9648"
      },
      "outputs": [
        {
          "name": "stderr",
          "output_type": "stream",
          "text": [
            "/usr/local/lib/python3.8/dist-packages/torchvision/models/_utils.py:223: UserWarning: Arguments other than a weight enum or `None` for 'weights' are deprecated since 0.13 and may be removed in the future. The current behavior is equivalent to passing `weights=ResNet18_Weights.IMAGENET1K_V1`. You can also use `weights=ResNet18_Weights.DEFAULT` to get the most up-to-date weights.\n",
            "  warnings.warn(msg)\n",
            "Downloading: \"https://download.pytorch.org/models/resnet18-f37072fd.pth\" to /root/.cache/torch/hub/checkpoints/resnet18-f37072fd.pth\n"
          ]
        },
        {
          "data": {
            "application/vnd.jupyter.widget-view+json": {
              "model_id": "c2227131211b48519be55666a2db5612",
              "version_major": 2,
              "version_minor": 0
            },
            "text/plain": [
              "  0%|          | 0.00/44.7M [00:00<?, ?B/s]"
            ]
          },
          "metadata": {},
          "output_type": "display_data"
        },
        {
          "name": "stdout",
          "output_type": "stream",
          "text": [
            "Epoca [1/5], Passo [100/782] Loss: 1.8823\n",
            "Epoca [1/5], Passo [200/782] Loss: 1.5465\n",
            "Epoca [1/5], Passo [300/782] Loss: 1.2624\n",
            "Epoca [1/5], Passo [400/782] Loss: 1.2108\n",
            "Epoca [1/5], Passo [500/782] Loss: 0.9804\n",
            "Epoca [1/5], Passo [600/782] Loss: 0.9060\n",
            "Epoca [1/5], Passo [700/782] Loss: 0.8643\n",
            "Acuracia do modelo ResNet: 78.09 %\n",
            "Epoca [2/5], Passo [100/782] Loss: 0.3790\n",
            "Epoca [2/5], Passo [200/782] Loss: 0.3099\n",
            "Epoca [2/5], Passo [300/782] Loss: 0.4315\n",
            "Epoca [2/5], Passo [400/782] Loss: 0.3880\n",
            "Epoca [2/5], Passo [500/782] Loss: 0.3046\n",
            "Epoca [2/5], Passo [600/782] Loss: 0.3310\n",
            "Epoca [2/5], Passo [700/782] Loss: 0.4926\n",
            "Acuracia do modelo ResNet: 88.5 %\n",
            "Epoca [3/5], Passo [100/782] Loss: 0.2339\n",
            "Epoca [3/5], Passo [200/782] Loss: 0.2488\n",
            "Epoca [3/5], Passo [300/782] Loss: 0.2124\n",
            "Epoca [3/5], Passo [400/782] Loss: 0.5410\n",
            "Epoca [3/5], Passo [500/782] Loss: 0.3797\n",
            "Epoca [3/5], Passo [600/782] Loss: 0.5054\n",
            "Epoca [3/5], Passo [700/782] Loss: 0.3152\n",
            "Acuracia do modelo ResNet: 88.64 %\n",
            "Epoca [4/5], Passo [100/782] Loss: 0.2470\n",
            "Epoca [4/5], Passo [200/782] Loss: 0.2967\n",
            "Epoca [4/5], Passo [300/782] Loss: 0.2681\n",
            "Epoca [4/5], Passo [400/782] Loss: 0.1648\n",
            "Epoca [4/5], Passo [500/782] Loss: 0.1364\n",
            "Epoca [4/5], Passo [600/782] Loss: 0.1561\n",
            "Epoca [4/5], Passo [700/782] Loss: 0.2053\n",
            "Acuracia do modelo ResNet: 91.65 %\n",
            "Epoca [5/5], Passo [100/782] Loss: 0.0809\n",
            "Epoca [5/5], Passo [200/782] Loss: 0.2109\n",
            "Epoca [5/5], Passo [300/782] Loss: 0.3218\n",
            "Epoca [5/5], Passo [400/782] Loss: 0.1242\n",
            "Epoca [5/5], Passo [500/782] Loss: 0.3630\n",
            "Epoca [5/5], Passo [600/782] Loss: 0.0830\n",
            "Epoca [5/5], Passo [700/782] Loss: 0.2137\n",
            "Acuracia do modelo ResNet: 92.31 %\n"
          ]
        }
      ],
      "source": [
        "resnet = modelo('ResNet18', True)\n",
        "aprendizado(resnet)"
      ]
    },
    {
      "cell_type": "code",
      "execution_count": null,
      "metadata": {
        "colab": {
          "base_uri": "https://localhost:8080/",
          "height": 295
        },
        "id": "Nfeq1FOnXhhw",
        "outputId": "2c09ab55-3d44-4c30-9be0-d9d65edb70fe"
      },
      "outputs": [
        {
          "output_type": "display_data",
          "data": {
            "text/plain": [
              "<Figure size 432x288 with 1 Axes>"
            ],
            "image/png": "[encoded data removed]"
          },
          "metadata": {
            "needs_background": "light"
          }
        }
      ],
      "source": [
        "plota_grafico([80.79,84.91,85.88,85.16,86.11],[75.67,89.06,90.77,92.12,91.83],[86.23,89.03,90.12,90.37,89.77],[78.09,88.5,88.64,91.65,92.31])"
      ]
    },
    {
      "cell_type": "markdown",
      "source": [
        "No caso do primeiro teste, pode se notar que com o passar das épocas, há uma dominância da rede Resnet e da Inception, apesar de apresentarem os piores resultados na primeira época. O melhor score ficou para ResNet, com 92.31 % na 5 época; o pior, para AlexNet com 86.11 %."
      ],
      "metadata": {
        "id": "c_Lz_gvXsa6a"
      }
    },
    {
      "cell_type": "markdown",
      "metadata": {
        "id": "adR0nTOw1l2R"
      },
      "source": [
        "Limpeza das listas de acurácia."
      ]
    },
    {
      "cell_type": "code",
      "execution_count": null,
      "metadata": {
        "id": "FUrMdt7Hlh0o"
      },
      "outputs": [],
      "source": [
        "acuracias_alexnet = []\n",
        "acuracias_vgg = []\n",
        "acuracias_resnet = []"
      ]
    },
    {
      "cell_type": "markdown",
      "metadata": {
        "id": "9jm4Csdy1uLk"
      },
      "source": [
        "2-Utilizar das mesmas arquiteturas anteriores, mas agora vocês realizarão o FINETUNING de cada uma das redes descongelando as 3 últimas camadas. Plotar seus resultados de acurácia para CIFAR10;"
      ]
    },
    {
      "cell_type": "code",
      "execution_count": null,
      "metadata": {
        "colab": {
          "base_uri": "https://localhost:8080/"
        },
        "id": "zy-6pUW8ucxb",
        "outputId": "f1784607-9e8b-484c-d2d1-39f9384076f3"
      },
      "outputs": [
        {
          "name": "stderr",
          "output_type": "stream",
          "text": [
            "/usr/local/lib/python3.8/dist-packages/torchvision/models/_utils.py:208: UserWarning: The parameter 'pretrained' is deprecated since 0.13 and may be removed in the future, please use 'weights' instead.\n",
            "  warnings.warn(\n",
            "/usr/local/lib/python3.8/dist-packages/torchvision/models/_utils.py:223: UserWarning: Arguments other than a weight enum or `None` for 'weights' are deprecated since 0.13 and may be removed in the future. The current behavior is equivalent to passing `weights=AlexNet_Weights.IMAGENET1K_V1`. You can also use `weights=AlexNet_Weights.DEFAULT` to get the most up-to-date weights.\n",
            "  warnings.warn(msg)\n"
          ]
        },
        {
          "name": "stdout",
          "output_type": "stream",
          "text": [
            "Epoca [1/5], Passo [100/782] Loss: 1.0242\n",
            "Epoca [1/5], Passo [200/782] Loss: 0.7494\n",
            "Epoca [1/5], Passo [300/782] Loss: 0.7928\n",
            "Epoca [1/5], Passo [400/782] Loss: 0.4595\n",
            "Epoca [1/5], Passo [500/782] Loss: 0.4755\n",
            "Epoca [1/5], Passo [600/782] Loss: 0.6416\n",
            "Epoca [1/5], Passo [700/782] Loss: 0.7116\n",
            "Acuracia do modelo AlexNet: 81.7 %\n",
            "Epoca [2/5], Passo [100/782] Loss: 0.6860\n",
            "Epoca [2/5], Passo [200/782] Loss: 0.3268\n",
            "Epoca [2/5], Passo [300/782] Loss: 0.4588\n",
            "Epoca [2/5], Passo [400/782] Loss: 0.4000\n",
            "Epoca [2/5], Passo [500/782] Loss: 0.4885\n",
            "Epoca [2/5], Passo [600/782] Loss: 0.4109\n",
            "Epoca [2/5], Passo [700/782] Loss: 0.4627\n",
            "Acuracia do modelo AlexNet: 84.08 %\n",
            "Epoca [3/5], Passo [100/782] Loss: 0.3596\n",
            "Epoca [3/5], Passo [200/782] Loss: 0.4315\n",
            "Epoca [3/5], Passo [300/782] Loss: 0.4432\n",
            "Epoca [3/5], Passo [400/782] Loss: 0.5189\n",
            "Epoca [3/5], Passo [500/782] Loss: 0.5922\n",
            "Epoca [3/5], Passo [600/782] Loss: 0.3169\n",
            "Epoca [3/5], Passo [700/782] Loss: 0.4008\n",
            "Acuracia do modelo AlexNet: 85.82 %\n",
            "Epoca [4/5], Passo [100/782] Loss: 0.2490\n",
            "Epoca [4/5], Passo [200/782] Loss: 0.2958\n",
            "Epoca [4/5], Passo [300/782] Loss: 0.2228\n",
            "Epoca [4/5], Passo [400/782] Loss: 0.3667\n",
            "Epoca [4/5], Passo [500/782] Loss: 0.3434\n",
            "Epoca [4/5], Passo [600/782] Loss: 0.4069\n",
            "Epoca [4/5], Passo [700/782] Loss: 0.3119\n",
            "Acuracia do modelo AlexNet: 84.5 %\n",
            "Epoca [5/5], Passo [100/782] Loss: 0.2881\n",
            "Epoca [5/5], Passo [200/782] Loss: 0.4224\n",
            "Epoca [5/5], Passo [300/782] Loss: 0.2139\n",
            "Epoca [5/5], Passo [400/782] Loss: 0.3394\n",
            "Epoca [5/5], Passo [500/782] Loss: 0.2782\n",
            "Epoca [5/5], Passo [600/782] Loss: 0.3828\n",
            "Epoca [5/5], Passo [700/782] Loss: 0.2809\n",
            "Acuracia do modelo AlexNet: 87.36 %\n"
          ]
        }
      ],
      "source": [
        "alexnet = modelo('AlexNet', True)\n",
        "descongela_ultimas_camadas(alexnet)\n",
        "aprendizado(alexnet)"
      ]
    },
    {
      "cell_type": "code",
      "execution_count": null,
      "metadata": {
        "colab": {
          "base_uri": "https://localhost:8080/",
          "height": 850,
          "referenced_widgets": [
            "3a7c5cc27b2d4a1f95c75ebb41027f73",
            "3af9581096414a5c825ce2ce2054c3cc",
            "bcef9c3b25394dd696d722f546ba4a4a",
            "7cf3355b515e4087bdbaffe30f51f3ad",
            "2b36d4a9377d4baaad62906c48a4dbba",
            "3730f3baf6a24752b90b6634e50a18e5",
            "90edd4f1b0ee4f94bd052658fbc00021",
            "7946cd645d47430a8ef9f3868c644e69",
            "137e87bd56f74c039bcaa3e0db6f4efe",
            "befbbf0e4a8b40f0917795d322d35702",
            "ba04bc06b8cb454d9f21c636134785ed"
          ]
        },
        "id": "yJApRFLHjnaI",
        "outputId": "e2ed3ac3-f278-4b43-8391-735109376dfa"
      },
      "outputs": [
        {
          "output_type": "stream",
          "name": "stderr",
          "text": [
            "/usr/local/lib/python3.8/dist-packages/torchvision/models/_utils.py:208: UserWarning: The parameter 'pretrained' is deprecated since 0.13 and may be removed in the future, please use 'weights' instead.\n",
            "  warnings.warn(\n",
            "/usr/local/lib/python3.8/dist-packages/torchvision/models/_utils.py:223: UserWarning: Arguments other than a weight enum or `None` for 'weights' are deprecated since 0.13 and may be removed in the future. The current behavior is equivalent to passing `weights=Inception_V3_Weights.IMAGENET1K_V1`. You can also use `weights=Inception_V3_Weights.DEFAULT` to get the most up-to-date weights.\n",
            "  warnings.warn(msg)\n",
            "Downloading: \"https://download.pytorch.org/models/inception_v3_google-0cc3c7bd.pth\" to /root/.cache/torch/hub/checkpoints/inception_v3_google-0cc3c7bd.pth\n"
          ]
        },
        {
          "output_type": "display_data",
          "data": {
            "text/plain": [
              "  0%|          | 0.00/104M [00:00<?, ?B/s]"
            ],
            "application/vnd.jupyter.widget-view+json": {
              "version_major": 2,
              "version_minor": 0,
              "model_id": "3a7c5cc27b2d4a1f95c75ebb41027f73"
            }
          },
          "metadata": {}
        },
        {
          "output_type": "stream",
          "name": "stdout",
          "text": [
            "Epoca [1/5], Passo [100/782] Loss: 4.5346\n",
            "Epoca [1/5], Passo [200/782] Loss: 2.2003\n",
            "Epoca [1/5], Passo [300/782] Loss: 1.9074\n",
            "Epoca [1/5], Passo [400/782] Loss: 0.9911\n",
            "Epoca [1/5], Passo [500/782] Loss: 0.9427\n",
            "Epoca [1/5], Passo [600/782] Loss: 1.1948\n",
            "Epoca [1/5], Passo [700/782] Loss: 0.5621\n",
            "Acuracia do modelo Inception3: 76.99 %\n",
            "Epoca [2/5], Passo [100/782] Loss: 0.3838\n",
            "Epoca [2/5], Passo [200/782] Loss: 0.2186\n",
            "Epoca [2/5], Passo [300/782] Loss: 0.3623\n",
            "Epoca [2/5], Passo [400/782] Loss: 0.3113\n",
            "Epoca [2/5], Passo [500/782] Loss: 0.3203\n",
            "Epoca [2/5], Passo [600/782] Loss: 0.0889\n",
            "Epoca [2/5], Passo [700/782] Loss: 0.2167\n",
            "Acuracia do modelo Inception3: 88.61 %\n",
            "Epoca [3/5], Passo [100/782] Loss: 0.1502\n",
            "Epoca [3/5], Passo [200/782] Loss: 0.3322\n",
            "Epoca [3/5], Passo [300/782] Loss: 0.0632\n",
            "Epoca [3/5], Passo [400/782] Loss: 0.2746\n",
            "Epoca [3/5], Passo [500/782] Loss: 0.1822\n",
            "Epoca [3/5], Passo [600/782] Loss: 0.0865\n",
            "Epoca [3/5], Passo [700/782] Loss: 0.0160\n",
            "Acuracia do modelo Inception3: 91.29 %\n",
            "Epoca [4/5], Passo [100/782] Loss: 0.0533\n",
            "Epoca [4/5], Passo [200/782] Loss: 0.1365\n",
            "Epoca [4/5], Passo [300/782] Loss: 0.1011\n",
            "Epoca [4/5], Passo [400/782] Loss: 0.1260\n",
            "Epoca [4/5], Passo [500/782] Loss: 0.1712\n",
            "Epoca [4/5], Passo [600/782] Loss: 0.2659\n",
            "Epoca [4/5], Passo [700/782] Loss: 0.0761\n",
            "Acuracia do modelo Inception3: 92.17 %\n",
            "Epoca [5/5], Passo [100/782] Loss: 0.1075\n",
            "Epoca [5/5], Passo [200/782] Loss: 0.0821\n",
            "Epoca [5/5], Passo [300/782] Loss: 0.0256\n",
            "Epoca [5/5], Passo [400/782] Loss: 0.0314\n",
            "Epoca [5/5], Passo [500/782] Loss: 0.0732\n",
            "Epoca [5/5], Passo [600/782] Loss: 0.1221\n",
            "Epoca [5/5], Passo [700/782] Loss: 0.1152\n",
            "Acuracia do modelo Inception3: 92.52 %\n"
          ]
        }
      ],
      "source": [
        "inception = modelo('Inception v3', True)\n",
        "descongela_ultimas_camadas(inception)\n",
        "aprendizado(inception)"
      ]
    },
    {
      "cell_type": "code",
      "execution_count": null,
      "metadata": {
        "id": "HHfC4hXauxGD",
        "colab": {
          "base_uri": "https://localhost:8080/",
          "height": 850,
          "referenced_widgets": [
            "887f68f426694a5bab87ecc0b9ebae88",
            "c6ff5118d74a47bb87a5ecb58de07394",
            "9491fb00c3604e719c656c3a5da6da8f",
            "5ea28f43de8041168b1320b34abbc8d6",
            "71b09b6e07b1480ab5a4542c434a2e32",
            "60925580d16a46d6851604be527316a1",
            "752b2b4de93249a9a864a9aefc52cc7b",
            "fb3ae587014f49bd9fb45b7d8cfdbd18",
            "995016fca2644ff9a969ae177104ffd2",
            "8713ae2b181343ffab9be2802b0b426c",
            "04ff34a7853a4a4a99a1822c9bdf4159"
          ]
        },
        "outputId": "77f84cd8-35d5-4ebd-9edd-4367a913a7b9"
      },
      "outputs": [
        {
          "output_type": "stream",
          "name": "stderr",
          "text": [
            "/usr/local/lib/python3.8/dist-packages/torchvision/models/_utils.py:208: UserWarning: The parameter 'pretrained' is deprecated since 0.13 and may be removed in the future, please use 'weights' instead.\n",
            "  warnings.warn(\n",
            "/usr/local/lib/python3.8/dist-packages/torchvision/models/_utils.py:223: UserWarning: Arguments other than a weight enum or `None` for 'weights' are deprecated since 0.13 and may be removed in the future. The current behavior is equivalent to passing `weights=VGG16_Weights.IMAGENET1K_V1`. You can also use `weights=VGG16_Weights.DEFAULT` to get the most up-to-date weights.\n",
            "  warnings.warn(msg)\n",
            "Downloading: \"https://download.pytorch.org/models/vgg16-397923af.pth\" to /root/.cache/torch/hub/checkpoints/vgg16-397923af.pth\n"
          ]
        },
        {
          "output_type": "display_data",
          "data": {
            "text/plain": [
              "  0%|          | 0.00/528M [00:00<?, ?B/s]"
            ],
            "application/vnd.jupyter.widget-view+json": {
              "version_major": 2,
              "version_minor": 0,
              "model_id": "887f68f426694a5bab87ecc0b9ebae88"
            }
          },
          "metadata": {}
        },
        {
          "output_type": "stream",
          "name": "stdout",
          "text": [
            "Epoca [1/5], Passo [100/782] Loss: 1.2020\n",
            "Epoca [1/5], Passo [200/782] Loss: 1.2037\n",
            "Epoca [1/5], Passo [300/782] Loss: 0.4295\n",
            "Epoca [1/5], Passo [400/782] Loss: 0.6843\n",
            "Epoca [1/5], Passo [500/782] Loss: 0.4172\n",
            "Epoca [1/5], Passo [600/782] Loss: 0.4768\n",
            "Epoca [1/5], Passo [700/782] Loss: 0.7115\n",
            "Acuracia do modelo VGG: 86.6 %\n",
            "Epoca [2/5], Passo [100/782] Loss: 0.6378\n",
            "Epoca [2/5], Passo [200/782] Loss: 0.2223\n",
            "Epoca [2/5], Passo [300/782] Loss: 0.5106\n",
            "Epoca [2/5], Passo [400/782] Loss: 0.2521\n",
            "Epoca [2/5], Passo [500/782] Loss: 0.3447\n",
            "Epoca [2/5], Passo [600/782] Loss: 0.2843\n",
            "Epoca [2/5], Passo [700/782] Loss: 0.4478\n",
            "Acuracia do modelo VGG: 88.59 %\n",
            "Epoca [3/5], Passo [100/782] Loss: 0.2428\n",
            "Epoca [3/5], Passo [200/782] Loss: 0.3387\n",
            "Epoca [3/5], Passo [300/782] Loss: 0.1622\n",
            "Epoca [3/5], Passo [400/782] Loss: 0.3497\n",
            "Epoca [3/5], Passo [500/782] Loss: 0.1573\n",
            "Epoca [3/5], Passo [600/782] Loss: 0.0871\n",
            "Epoca [3/5], Passo [700/782] Loss: 0.3062\n",
            "Acuracia do modelo VGG: 90.14 %\n",
            "Epoca [4/5], Passo [100/782] Loss: 0.1238\n",
            "Epoca [4/5], Passo [200/782] Loss: 0.2877\n",
            "Epoca [4/5], Passo [300/782] Loss: 0.0925\n",
            "Epoca [4/5], Passo [400/782] Loss: 0.1667\n",
            "Epoca [4/5], Passo [500/782] Loss: 0.2243\n",
            "Epoca [4/5], Passo [600/782] Loss: 0.1870\n",
            "Epoca [4/5], Passo [700/782] Loss: 0.1746\n",
            "Acuracia do modelo VGG: 90.43 %\n",
            "Epoca [5/5], Passo [100/782] Loss: 0.1671\n",
            "Epoca [5/5], Passo [200/782] Loss: 0.3046\n",
            "Epoca [5/5], Passo [300/782] Loss: 0.2683\n",
            "Epoca [5/5], Passo [400/782] Loss: 0.1719\n",
            "Epoca [5/5], Passo [500/782] Loss: 0.1131\n",
            "Epoca [5/5], Passo [600/782] Loss: 0.1916\n",
            "Epoca [5/5], Passo [700/782] Loss: 0.1609\n",
            "Acuracia do modelo VGG: 90.69 %\n"
          ]
        }
      ],
      "source": [
        "vgg = modelo('Vgg16', True)\n",
        "descongela_ultimas_camadas(vgg)\n",
        "aprendizado(vgg)"
      ]
    },
    {
      "cell_type": "code",
      "execution_count": null,
      "metadata": {
        "id": "9W5u0fUVvHk4",
        "colab": {
          "base_uri": "https://localhost:8080/",
          "height": 815,
          "referenced_widgets": [
            "6c7fd6de11bb45b5afa47b23323e7846",
            "7e96edcf7ee64ab0a00d754f16d4cf7b",
            "c7612201e1874f5f8976af6bbf1dbabb",
            "1bddde8474974a4ca6a296f355ec5d8f",
            "09c4140d1b4a4ce89ec559adb7d47018",
            "924ef627775c4d629972614e703aa5e5",
            "2bf62f844b8e4a24be7c05b998156294",
            "d6f5e792d1564a55af077a1744db08aa",
            "3c47428948ec4c0f843661b345dba88b",
            "7ca1a3478ddf47adb004446e5f52339a",
            "0d95ef51435e4667a2ae3a50c530f52b"
          ]
        },
        "outputId": "c4d851b8-0ce5-4809-a8dd-bdb7f0491191"
      },
      "outputs": [
        {
          "output_type": "stream",
          "name": "stderr",
          "text": [
            "/usr/local/lib/python3.8/dist-packages/torchvision/models/_utils.py:223: UserWarning: Arguments other than a weight enum or `None` for 'weights' are deprecated since 0.13 and may be removed in the future. The current behavior is equivalent to passing `weights=ResNet18_Weights.IMAGENET1K_V1`. You can also use `weights=ResNet18_Weights.DEFAULT` to get the most up-to-date weights.\n",
            "  warnings.warn(msg)\n",
            "Downloading: \"https://download.pytorch.org/models/resnet18-f37072fd.pth\" to /root/.cache/torch/hub/checkpoints/resnet18-f37072fd.pth\n"
          ]
        },
        {
          "output_type": "display_data",
          "data": {
            "text/plain": [
              "  0%|          | 0.00/44.7M [00:00<?, ?B/s]"
            ],
            "application/vnd.jupyter.widget-view+json": {
              "version_major": 2,
              "version_minor": 0,
              "model_id": "6c7fd6de11bb45b5afa47b23323e7846"
            }
          },
          "metadata": {}
        },
        {
          "output_type": "stream",
          "name": "stdout",
          "text": [
            "Epoca [1/5], Passo [100/782] Loss: 1.9282\n",
            "Epoca [1/5], Passo [200/782] Loss: 1.5965\n",
            "Epoca [1/5], Passo [300/782] Loss: 1.4545\n",
            "Epoca [1/5], Passo [400/782] Loss: 1.2289\n",
            "Epoca [1/5], Passo [500/782] Loss: 0.9336\n",
            "Epoca [1/5], Passo [600/782] Loss: 1.0201\n",
            "Epoca [1/5], Passo [700/782] Loss: 0.8859\n",
            "Acuracia do modelo ResNet: 75.25 %\n",
            "Epoca [2/5], Passo [100/782] Loss: 0.5193\n",
            "Epoca [2/5], Passo [200/782] Loss: 0.5896\n",
            "Epoca [2/5], Passo [300/782] Loss: 0.3396\n",
            "Epoca [2/5], Passo [400/782] Loss: 0.3431\n",
            "Epoca [2/5], Passo [500/782] Loss: 0.3338\n",
            "Epoca [2/5], Passo [600/782] Loss: 0.3522\n",
            "Epoca [2/5], Passo [700/782] Loss: 0.3458\n",
            "Acuracia do modelo ResNet: 88.5 %\n",
            "Epoca [3/5], Passo [100/782] Loss: 0.4325\n",
            "Epoca [3/5], Passo [200/782] Loss: 0.3072\n",
            "Epoca [3/5], Passo [300/782] Loss: 0.2108\n",
            "Epoca [3/5], Passo [400/782] Loss: 0.3258\n",
            "Epoca [3/5], Passo [500/782] Loss: 0.2730\n",
            "Epoca [3/5], Passo [600/782] Loss: 0.2072\n",
            "Epoca [3/5], Passo [700/782] Loss: 0.3012\n",
            "Acuracia do modelo ResNet: 89.53 %\n",
            "Epoca [4/5], Passo [100/782] Loss: 0.2217\n",
            "Epoca [4/5], Passo [200/782] Loss: 0.1709\n",
            "Epoca [4/5], Passo [300/782] Loss: 0.3292\n",
            "Epoca [4/5], Passo [400/782] Loss: 0.1555\n",
            "Epoca [4/5], Passo [500/782] Loss: 0.3331\n",
            "Epoca [4/5], Passo [600/782] Loss: 0.1583\n",
            "Epoca [4/5], Passo [700/782] Loss: 0.2006\n",
            "Acuracia do modelo ResNet: 91.27 %\n",
            "Epoca [5/5], Passo [100/782] Loss: 0.0927\n",
            "Epoca [5/5], Passo [200/782] Loss: 0.0687\n",
            "Epoca [5/5], Passo [300/782] Loss: 0.3518\n",
            "Epoca [5/5], Passo [400/782] Loss: 0.1883\n",
            "Epoca [5/5], Passo [500/782] Loss: 0.1116\n",
            "Epoca [5/5], Passo [600/782] Loss: 0.1376\n",
            "Epoca [5/5], Passo [700/782] Loss: 0.2378\n",
            "Acuracia do modelo ResNet: 92.48 %\n"
          ]
        }
      ],
      "source": [
        "resnet = modelo('ResNet18', True)\n",
        "descongela_ultimas_camadas(resnet)\n",
        "aprendizado(resnet)"
      ]
    },
    {
      "cell_type": "code",
      "execution_count": null,
      "metadata": {
        "id": "H5mH_6dJv4Yb",
        "colab": {
          "base_uri": "https://localhost:8080/",
          "height": 295
        },
        "outputId": "50149e23-f975-4016-d8ea-84484ec0c210"
      },
      "outputs": [
        {
          "output_type": "display_data",
          "data": {
            "text/plain": [
              "<Figure size 432x288 with 1 Axes>"
            ],
            "image/png": "[encoded data removed]"
          },
          "metadata": {
            "needs_background": "light"
          }
        }
      ],
      "source": [
        "plota_grafico([81.7 ,84.08 ,85.82 ,84.5 ,87.36],[76.99,88.61,91.29,92.17,92.52],[86.6,88.59,90.14,90.43,90.69],[75.25,88.5,89.53,91.27,92.48])"
      ]
    },
    {
      "cell_type": "markdown",
      "source": [
        "Utilizando a técnica do Fine Tuning, é possível notar uma melhora geral das acurácias. Dessa vez, na época 5 as redes Vgg, Inception e Resnet apresentaram um resultado muito parecido, mas ainda é possível notar a dominância da Resnet e da Inception. Nesse caso, o melhor resultado foi para Inception, com 92.52 %; o pior, para AlexNet, com 87.36 %. Apesar do resultado inferior, houve uma melhora de 1.4 %"
      ],
      "metadata": {
        "id": "_AGXNmqwtYSi"
      }
    },
    {
      "cell_type": "code",
      "execution_count": null,
      "metadata": {
        "id": "3xGT5JR0uatV"
      },
      "outputs": [],
      "source": [
        "acuracias_alexnet = []\n",
        "acuracias_vgg = []\n",
        "acuracias_resnet = []"
      ]
    },
    {
      "cell_type": "markdown",
      "metadata": {
        "id": "dM5x4uLUFpwU"
      },
      "source": [
        "3-Finalmente, utilizar as mesmas redes, mas agora FromScratch, i.e., vocês colocaram o flag pretrained=False e treinarão as redes desde o início sem qualquer pré-treino. Plotar seus resultados de acurácia para CIFAR10.\n"
      ]
    },
    {
      "cell_type": "code",
      "execution_count": null,
      "metadata": {
        "id": "sPBkc0V1lCtO",
        "colab": {
          "base_uri": "https://localhost:8080/"
        },
        "outputId": "59d090c3-5778-4131-92bc-3248006d08bb"
      },
      "outputs": [
        {
          "output_type": "stream",
          "name": "stderr",
          "text": [
            "/usr/local/lib/python3.8/dist-packages/torchvision/models/_utils.py:223: UserWarning: Arguments other than a weight enum or `None` for 'weights' are deprecated since 0.13 and may be removed in the future. The current behavior is equivalent to passing `weights=None`.\n",
            "  warnings.warn(msg)\n"
          ]
        },
        {
          "output_type": "stream",
          "name": "stdout",
          "text": [
            "Epoca [1/5], Passo [100/782] Loss: 2.3048\n",
            "Epoca [1/5], Passo [200/782] Loss: 2.3044\n",
            "Epoca [1/5], Passo [300/782] Loss: 2.2997\n",
            "Epoca [1/5], Passo [400/782] Loss: 2.3037\n",
            "Epoca [1/5], Passo [500/782] Loss: 2.3036\n",
            "Epoca [1/5], Passo [600/782] Loss: 2.3035\n",
            "Epoca [1/5], Passo [700/782] Loss: 2.3025\n",
            "Acuracia do modelo AlexNet: 11.1 %\n",
            "Epoca [2/5], Passo [100/782] Loss: 2.3019\n",
            "Epoca [2/5], Passo [200/782] Loss: 2.3022\n",
            "Epoca [2/5], Passo [300/782] Loss: 2.3015\n",
            "Epoca [2/5], Passo [400/782] Loss: 2.3024\n",
            "Epoca [2/5], Passo [500/782] Loss: 2.3019\n",
            "Epoca [2/5], Passo [600/782] Loss: 2.3042\n",
            "Epoca [2/5], Passo [700/782] Loss: 2.3012\n",
            "Acuracia do modelo AlexNet: 18.01 %\n",
            "Epoca [3/5], Passo [100/782] Loss: 2.3044\n",
            "Epoca [3/5], Passo [200/782] Loss: 2.3011\n",
            "Epoca [3/5], Passo [300/782] Loss: 2.3016\n",
            "Epoca [3/5], Passo [400/782] Loss: 2.3016\n",
            "Epoca [3/5], Passo [500/782] Loss: 2.3006\n",
            "Epoca [3/5], Passo [600/782] Loss: 2.3004\n",
            "Epoca [3/5], Passo [700/782] Loss: 2.3002\n",
            "Acuracia do modelo AlexNet: 17.82 %\n",
            "Epoca [4/5], Passo [100/782] Loss: 2.2992\n",
            "Epoca [4/5], Passo [200/782] Loss: 2.3010\n",
            "Epoca [4/5], Passo [300/782] Loss: 2.2997\n",
            "Epoca [4/5], Passo [400/782] Loss: 2.3002\n",
            "Epoca [4/5], Passo [500/782] Loss: 2.2982\n",
            "Epoca [4/5], Passo [600/782] Loss: 2.2982\n",
            "Epoca [4/5], Passo [700/782] Loss: 2.2979\n",
            "Acuracia do modelo AlexNet: 19.01 %\n",
            "Epoca [5/5], Passo [100/782] Loss: 2.2993\n",
            "Epoca [5/5], Passo [200/782] Loss: 2.2986\n",
            "Epoca [5/5], Passo [300/782] Loss: 2.3001\n",
            "Epoca [5/5], Passo [400/782] Loss: 2.2996\n",
            "Epoca [5/5], Passo [500/782] Loss: 2.2987\n",
            "Epoca [5/5], Passo [600/782] Loss: 2.2944\n",
            "Epoca [5/5], Passo [700/782] Loss: 2.2977\n",
            "Acuracia do modelo AlexNet: 17.37 %\n"
          ]
        }
      ],
      "source": [
        "alexnet = modelo('AlexNet', False)\n",
        "aprendizado(alexnet)"
      ]
    },
    {
      "cell_type": "code",
      "execution_count": null,
      "metadata": {
        "id": "p_-B_sWTjtXl",
        "colab": {
          "base_uri": "https://localhost:8080/"
        },
        "outputId": "a48d4369-c548-4f81-94d5-23932442db72"
      },
      "outputs": [
        {
          "output_type": "stream",
          "name": "stderr",
          "text": [
            "/usr/local/lib/python3.8/dist-packages/torchvision/models/_utils.py:208: UserWarning: The parameter 'pretrained' is deprecated since 0.13 and may be removed in the future, please use 'weights' instead.\n",
            "  warnings.warn(\n",
            "/usr/local/lib/python3.8/dist-packages/torchvision/models/_utils.py:223: UserWarning: Arguments other than a weight enum or `None` for 'weights' are deprecated since 0.13 and may be removed in the future. The current behavior is equivalent to passing `weights=None`.\n",
            "  warnings.warn(msg)\n",
            "/usr/local/lib/python3.8/dist-packages/torchvision/models/inception.py:43: FutureWarning: The default weight initialization of inception_v3 will be changed in future releases of torchvision. If you wish to keep the old behavior (which leads to long initialization times due to scipy/scipy#11299), please set init_weights=True.\n",
            "  warnings.warn(\n"
          ]
        },
        {
          "output_type": "stream",
          "name": "stdout",
          "text": [
            "Epoca [1/5], Passo [100/782] Loss: 7.7468\n",
            "Epoca [1/5], Passo [200/782] Loss: 6.0037\n",
            "Epoca [1/5], Passo [300/782] Loss: 4.8324\n",
            "Epoca [1/5], Passo [400/782] Loss: 3.3984\n",
            "Epoca [1/5], Passo [500/782] Loss: 3.3289\n",
            "Epoca [1/5], Passo [600/782] Loss: 3.9736\n",
            "Epoca [1/5], Passo [700/782] Loss: 3.4410\n",
            "Acuracia do modelo Inception3: 20.72 %\n",
            "Epoca [2/5], Passo [100/782] Loss: 2.2857\n",
            "Epoca [2/5], Passo [200/782] Loss: 2.6144\n",
            "Epoca [2/5], Passo [300/782] Loss: 2.1486\n",
            "Epoca [2/5], Passo [400/782] Loss: 1.9671\n",
            "Epoca [2/5], Passo [500/782] Loss: 1.9848\n",
            "Epoca [2/5], Passo [600/782] Loss: 2.0252\n",
            "Epoca [2/5], Passo [700/782] Loss: 1.8733\n",
            "Acuracia do modelo Inception3: 24.29 %\n",
            "Epoca [3/5], Passo [100/782] Loss: 1.9140\n",
            "Epoca [3/5], Passo [200/782] Loss: 2.0935\n",
            "Epoca [3/5], Passo [300/782] Loss: 2.2182\n",
            "Epoca [3/5], Passo [400/782] Loss: 2.1574\n",
            "Epoca [3/5], Passo [500/782] Loss: 1.9294\n",
            "Epoca [3/5], Passo [600/782] Loss: 1.9138\n",
            "Epoca [3/5], Passo [700/782] Loss: 1.8264\n",
            "Acuracia do modelo Inception3: 26.41 %\n",
            "Epoca [4/5], Passo [100/782] Loss: 1.9067\n",
            "Epoca [4/5], Passo [200/782] Loss: 1.7563\n",
            "Epoca [4/5], Passo [300/782] Loss: 1.6374\n",
            "Epoca [4/5], Passo [400/782] Loss: 1.5787\n",
            "Epoca [4/5], Passo [500/782] Loss: 1.6778\n",
            "Epoca [4/5], Passo [600/782] Loss: 1.7898\n",
            "Epoca [4/5], Passo [700/782] Loss: 1.9173\n",
            "Acuracia do modelo Inception3: 28.76 %\n",
            "Epoca [5/5], Passo [100/782] Loss: 1.7855\n",
            "Epoca [5/5], Passo [200/782] Loss: 1.7477\n",
            "Epoca [5/5], Passo [300/782] Loss: 1.7569\n",
            "Epoca [5/5], Passo [400/782] Loss: 2.1128\n",
            "Epoca [5/5], Passo [500/782] Loss: 1.8733\n",
            "Epoca [5/5], Passo [600/782] Loss: 2.0261\n",
            "Epoca [5/5], Passo [700/782] Loss: 1.7224\n",
            "Acuracia do modelo Inception3: 28.26 %\n"
          ]
        }
      ],
      "source": [
        "inception = modelo('Inception v3', False)\n",
        "aprendizado(inception)"
      ]
    },
    {
      "cell_type": "code",
      "execution_count": null,
      "metadata": {
        "id": "6e_31lOtlESX",
        "colab": {
          "base_uri": "https://localhost:8080/"
        },
        "outputId": "4fc4537f-f755-4f1c-ccbc-bcf78c93410f"
      },
      "outputs": [
        {
          "output_type": "stream",
          "name": "stdout",
          "text": [
            "Epoca [1/5], Passo [100/782] Loss: 2.3045\n",
            "Epoca [1/5], Passo [200/782] Loss: 2.2950\n",
            "Epoca [1/5], Passo [300/782] Loss: 2.3127\n",
            "Epoca [1/5], Passo [400/782] Loss: 2.2753\n",
            "Epoca [1/5], Passo [500/782] Loss: 2.2856\n",
            "Epoca [1/5], Passo [600/782] Loss: 2.3006\n",
            "Epoca [1/5], Passo [700/782] Loss: 2.2116\n",
            "Acuracia do modelo VGG: 22.84 %\n",
            "Epoca [2/5], Passo [100/782] Loss: 2.1697\n",
            "Epoca [2/5], Passo [200/782] Loss: 2.0075\n",
            "Epoca [2/5], Passo [300/782] Loss: 1.9562\n",
            "Epoca [2/5], Passo [400/782] Loss: 1.9172\n",
            "Epoca [2/5], Passo [500/782] Loss: 1.9296\n",
            "Epoca [2/5], Passo [600/782] Loss: 1.8898\n",
            "Epoca [2/5], Passo [700/782] Loss: 1.8714\n",
            "Acuracia do modelo VGG: 33.46 %\n",
            "Epoca [3/5], Passo [100/782] Loss: 1.7141\n",
            "Epoca [3/5], Passo [200/782] Loss: 1.7603\n",
            "Epoca [3/5], Passo [300/782] Loss: 1.8567\n",
            "Epoca [3/5], Passo [400/782] Loss: 1.6733\n",
            "Epoca [3/5], Passo [500/782] Loss: 1.7936\n",
            "Epoca [3/5], Passo [600/782] Loss: 1.3832\n",
            "Epoca [3/5], Passo [700/782] Loss: 1.7362\n",
            "Acuracia do modelo VGG: 28.01 %\n",
            "Epoca [4/5], Passo [100/782] Loss: 1.4816\n",
            "Epoca [4/5], Passo [200/782] Loss: 1.5832\n",
            "Epoca [4/5], Passo [300/782] Loss: 1.4422\n",
            "Epoca [4/5], Passo [400/782] Loss: 1.5104\n",
            "Epoca [4/5], Passo [500/782] Loss: 1.5523\n",
            "Epoca [4/5], Passo [600/782] Loss: 1.6978\n",
            "Epoca [4/5], Passo [700/782] Loss: 1.4321\n",
            "Acuracia do modelo VGG: 38.99 %\n",
            "Epoca [5/5], Passo [100/782] Loss: 1.2125\n",
            "Epoca [5/5], Passo [200/782] Loss: 1.4657\n",
            "Epoca [5/5], Passo [300/782] Loss: 1.1877\n",
            "Epoca [5/5], Passo [400/782] Loss: 1.3909\n",
            "Epoca [5/5], Passo [500/782] Loss: 1.3692\n",
            "Epoca [5/5], Passo [600/782] Loss: 1.6288\n",
            "Epoca [5/5], Passo [700/782] Loss: 1.3515\n",
            "Acuracia do modelo VGG: 49.92 %\n"
          ]
        }
      ],
      "source": [
        "vgg = modelo('Vgg16', False)\n",
        "aprendizado(vgg)"
      ]
    },
    {
      "cell_type": "code",
      "execution_count": null,
      "metadata": {
        "id": "osOrecI2lIFV",
        "colab": {
          "base_uri": "https://localhost:8080/"
        },
        "outputId": "3196cfe7-939b-4037-fd60-658cf563a526"
      },
      "outputs": [
        {
          "output_type": "stream",
          "name": "stderr",
          "text": [
            "/usr/local/lib/python3.8/dist-packages/torchvision/models/_utils.py:208: UserWarning: The parameter 'pretrained' is deprecated since 0.13 and may be removed in the future, please use 'weights' instead.\n",
            "  warnings.warn(\n",
            "/usr/local/lib/python3.8/dist-packages/torchvision/models/_utils.py:223: UserWarning: Arguments other than a weight enum or `None` for 'weights' are deprecated since 0.13 and may be removed in the future. The current behavior is equivalent to passing `weights=None`.\n",
            "  warnings.warn(msg)\n"
          ]
        },
        {
          "output_type": "stream",
          "name": "stdout",
          "text": [
            "Epoca [1/5], Passo [100/782] Loss: 2.2651\n",
            "Epoca [1/5], Passo [200/782] Loss: 2.1138\n",
            "Epoca [1/5], Passo [300/782] Loss: 2.1380\n",
            "Epoca [1/5], Passo [400/782] Loss: 2.1196\n",
            "Epoca [1/5], Passo [500/782] Loss: 2.0262\n",
            "Epoca [1/5], Passo [600/782] Loss: 2.0253\n",
            "Epoca [1/5], Passo [700/782] Loss: 1.9198\n",
            "Acuracia do modelo ResNet: 31.65 %\n",
            "Epoca [2/5], Passo [100/782] Loss: 1.8875\n",
            "Epoca [2/5], Passo [200/782] Loss: 1.7232\n",
            "Epoca [2/5], Passo [300/782] Loss: 1.8389\n",
            "Epoca [2/5], Passo [400/782] Loss: 1.8878\n",
            "Epoca [2/5], Passo [500/782] Loss: 1.6529\n",
            "Epoca [2/5], Passo [600/782] Loss: 1.9116\n",
            "Epoca [2/5], Passo [700/782] Loss: 1.6325\n",
            "Acuracia do modelo ResNet: 29.6 %\n",
            "Epoca [3/5], Passo [100/782] Loss: 1.6196\n",
            "Epoca [3/5], Passo [200/782] Loss: 1.6094\n",
            "Epoca [3/5], Passo [300/782] Loss: 1.5826\n",
            "Epoca [3/5], Passo [400/782] Loss: 1.5238\n",
            "Epoca [3/5], Passo [500/782] Loss: 1.4932\n",
            "Epoca [3/5], Passo [600/782] Loss: 1.4505\n",
            "Epoca [3/5], Passo [700/782] Loss: 1.4754\n",
            "Acuracia do modelo ResNet: 30.19 %\n",
            "Epoca [4/5], Passo [100/782] Loss: 1.6181\n",
            "Epoca [4/5], Passo [200/782] Loss: 1.3977\n",
            "Epoca [4/5], Passo [300/782] Loss: 1.5880\n",
            "Epoca [4/5], Passo [400/782] Loss: 1.5442\n",
            "Epoca [4/5], Passo [500/782] Loss: 1.4822\n",
            "Epoca [4/5], Passo [600/782] Loss: 1.4583\n",
            "Epoca [4/5], Passo [700/782] Loss: 1.3220\n",
            "Acuracia do modelo ResNet: 35.31 %\n",
            "Epoca [5/5], Passo [100/782] Loss: 1.3063\n",
            "Epoca [5/5], Passo [200/782] Loss: 1.4111\n",
            "Epoca [5/5], Passo [300/782] Loss: 1.2754\n",
            "Epoca [5/5], Passo [400/782] Loss: 1.4735\n",
            "Epoca [5/5], Passo [500/782] Loss: 1.3218\n",
            "Epoca [5/5], Passo [600/782] Loss: 1.3208\n",
            "Epoca [5/5], Passo [700/782] Loss: 1.2025\n",
            "Acuracia do modelo ResNet: 38.0 %\n"
          ]
        }
      ],
      "source": [
        "resnet = modelo('ResNet18', False)\n",
        "aprendizado(resnet)"
      ]
    },
    {
      "cell_type": "code",
      "execution_count": null,
      "metadata": {
        "id": "odgE_z4Lv8Sx",
        "colab": {
          "base_uri": "https://localhost:8080/",
          "height": 295
        },
        "outputId": "2422a556-1a48-4c1b-97d7-0b000b2ed3e9"
      },
      "outputs": [
        {
          "output_type": "display_data",
          "data": {
            "text/plain": [
              "<Figure size 432x288 with 1 Axes>"
            ],
            "image/png": "[encoded data removed]"
          },
          "metadata": {
            "needs_background": "light"
          }
        }
      ],
      "source": [
        "plota_grafico([11.1,18.01,17.82,19.01,17.37],[20.72,24.29,26.41,28.76,28.26],[22.84,33.46,28.01,38.99,49.92],[31.65,29.6,30.19,35.31,38.0])"
      ]
    },
    {
      "cell_type": "markdown",
      "source": [
        "Aqui, em um cenário onde não há pré treino, vemos um destaque da rede VGG sobre as outras, com uma acurácia de 49.92 %. É perceptível a falta do pré treino sobre os resultados afetando principalmente a AlexNet, que obteve uma acurácia máxima de 19.01 %, uma diferença de -163 % sobre o melhor resultado."
      ],
      "metadata": {
        "id": "bUwiqULHu6RL"
      }
    }
  ],
  "metadata": {
    "accelerator": "GPU",
    "colab": {
      "provenance": []
    },
    "gpuClass": "standard",
    "kernelspec": {
      "display_name": "Python 3",
      "name": "python3"
    },
    "language_info": {
      "name": "python"
    },
    "widgets": {
      "application/vnd.jupyter.widget-state+json": {
        "23a51395236f417fb8a46e593394a536": {
          "model_module": "@jupyter-widgets/controls",
          "model_module_version": "1.5.0",
          "model_name": "HTMLModel",
          "state": {
            "_dom_classes": [],
            "_model_module": "@jupyter-widgets/controls",
            "_model_module_version": "1.5.0",
            "_model_name": "HTMLModel",
            "_view_count": null,
            "_view_module": "@jupyter-widgets/controls",
            "_view_module_version": "1.5.0",
            "_view_name": "HTMLView",
            "description": "",
            "description_tooltip": null,
            "layout": "IPY_MODEL_77b73b3907994067931b5d5c55602a30",
            "placeholder": "​",
            "style": "IPY_MODEL_f2a8ee746a6b456bb0a4bc72a0cb6736",
            "value": " 44.7M/44.7M [00:03&lt;00:00, 9.15MB/s]"
          }
        },
        "2a00b54928c340188b62ee416871c723": {
          "model_module": "@jupyter-widgets/base",
          "model_module_version": "1.2.0",
          "model_name": "LayoutModel",
          "state": {
            "_model_module": "@jupyter-widgets/base",
            "_model_module_version": "1.2.0",
            "_model_name": "LayoutModel",
            "_view_count": null,
            "_view_module": "@jupyter-widgets/base",
            "_view_module_version": "1.2.0",
            "_view_name": "LayoutView",
            "align_content": null,
            "align_items": null,
            "align_self": null,
            "border": null,
            "bottom": null,
            "display": null,
            "flex": null,
            "flex_flow": null,
            "grid_area": null,
            "grid_auto_columns": null,
            "grid_auto_flow": null,
            "grid_auto_rows": null,
            "grid_column": null,
            "grid_gap": null,
            "grid_row": null,
            "grid_template_areas": null,
            "grid_template_columns": null,
            "grid_template_rows": null,
            "height": null,
            "justify_content": null,
            "justify_items": null,
            "left": null,
            "margin": null,
            "max_height": null,
            "max_width": null,
            "min_height": null,
            "min_width": null,
            "object_fit": null,
            "object_position": null,
            "order": null,
            "overflow": null,
            "overflow_x": null,
            "overflow_y": null,
            "padding": null,
            "right": null,
            "top": null,
            "visibility": null,
            "width": null
          }
        },
        "3804996adf7646c6b89510fb8ac1af82": {
          "model_module": "@jupyter-widgets/controls",
          "model_module_version": "1.5.0",
          "model_name": "ProgressStyleModel",
          "state": {
            "_model_module": "@jupyter-widgets/controls",
            "_model_module_version": "1.5.0",
            "_model_name": "ProgressStyleModel",
            "_view_count": null,
            "_view_module": "@jupyter-widgets/base",
            "_view_module_version": "1.2.0",
            "_view_name": "StyleView",
            "bar_color": null,
            "description_width": ""
          }
        },
        "4c79d4c86a2d42c996b07ce86cf9c748": {
          "model_module": "@jupyter-widgets/base",
          "model_module_version": "1.2.0",
          "model_name": "LayoutModel",
          "state": {
            "_model_module": "@jupyter-widgets/base",
            "_model_module_version": "1.2.0",
            "_model_name": "LayoutModel",
            "_view_count": null,
            "_view_module": "@jupyter-widgets/base",
            "_view_module_version": "1.2.0",
            "_view_name": "LayoutView",
            "align_content": null,
            "align_items": null,
            "align_self": null,
            "border": null,
            "bottom": null,
            "display": null,
            "flex": null,
            "flex_flow": null,
            "grid_area": null,
            "grid_auto_columns": null,
            "grid_auto_flow": null,
            "grid_auto_rows": null,
            "grid_column": null,
            "grid_gap": null,
            "grid_row": null,
            "grid_template_areas": null,
            "grid_template_columns": null,
            "grid_template_rows": null,
            "height": null,
            "justify_content": null,
            "justify_items": null,
            "left": null,
            "margin": null,
            "max_height": null,
            "max_width": null,
            "min_height": null,
            "min_width": null,
            "object_fit": null,
            "object_position": null,
            "order": null,
            "overflow": null,
            "overflow_x": null,
            "overflow_y": null,
            "padding": null,
            "right": null,
            "top": null,
            "visibility": null,
            "width": null
          }
        },
        "77b73b3907994067931b5d5c55602a30": {
          "model_module": "@jupyter-widgets/base",
          "model_module_version": "1.2.0",
          "model_name": "LayoutModel",
          "state": {
            "_model_module": "@jupyter-widgets/base",
            "_model_module_version": "1.2.0",
            "_model_name": "LayoutModel",
            "_view_count": null,
            "_view_module": "@jupyter-widgets/base",
            "_view_module_version": "1.2.0",
            "_view_name": "LayoutView",
            "align_content": null,
            "align_items": null,
            "align_self": null,
            "border": null,
            "bottom": null,
            "display": null,
            "flex": null,
            "flex_flow": null,
            "grid_area": null,
            "grid_auto_columns": null,
            "grid_auto_flow": null,
            "grid_auto_rows": null,
            "grid_column": null,
            "grid_gap": null,
            "grid_row": null,
            "grid_template_areas": null,
            "grid_template_columns": null,
            "grid_template_rows": null,
            "height": null,
            "justify_content": null,
            "justify_items": null,
            "left": null,
            "margin": null,
            "max_height": null,
            "max_width": null,
            "min_height": null,
            "min_width": null,
            "object_fit": null,
            "object_position": null,
            "order": null,
            "overflow": null,
            "overflow_x": null,
            "overflow_y": null,
            "padding": null,
            "right": null,
            "top": null,
            "visibility": null,
            "width": null
          }
        },
        "8c6d077be8a44ee18f5a21ad54600741": {
          "model_module": "@jupyter-widgets/controls",
          "model_module_version": "1.5.0",
          "model_name": "HTMLModel",
          "state": {
            "_dom_classes": [],
            "_model_module": "@jupyter-widgets/controls",
            "_model_module_version": "1.5.0",
            "_model_name": "HTMLModel",
            "_view_count": null,
            "_view_module": "@jupyter-widgets/controls",
            "_view_module_version": "1.5.0",
            "_view_name": "HTMLView",
            "description": "",
            "description_tooltip": null,
            "layout": "IPY_MODEL_a372980a7231463ca945757a40058348",
            "placeholder": "​",
            "style": "IPY_MODEL_bfc181b6406a46d7938e9780197afea9",
            "value": "100%"
          }
        },
        "a372980a7231463ca945757a40058348": {
          "model_module": "@jupyter-widgets/base",
          "model_module_version": "1.2.0",
          "model_name": "LayoutModel",
          "state": {
            "_model_module": "@jupyter-widgets/base",
            "_model_module_version": "1.2.0",
            "_model_name": "LayoutModel",
            "_view_count": null,
            "_view_module": "@jupyter-widgets/base",
            "_view_module_version": "1.2.0",
            "_view_name": "LayoutView",
            "align_content": null,
            "align_items": null,
            "align_self": null,
            "border": null,
            "bottom": null,
            "display": null,
            "flex": null,
            "flex_flow": null,
            "grid_area": null,
            "grid_auto_columns": null,
            "grid_auto_flow": null,
            "grid_auto_rows": null,
            "grid_column": null,
            "grid_gap": null,
            "grid_row": null,
            "grid_template_areas": null,
            "grid_template_columns": null,
            "grid_template_rows": null,
            "height": null,
            "justify_content": null,
            "justify_items": null,
            "left": null,
            "margin": null,
            "max_height": null,
            "max_width": null,
            "min_height": null,
            "min_width": null,
            "object_fit": null,
            "object_position": null,
            "order": null,
            "overflow": null,
            "overflow_x": null,
            "overflow_y": null,
            "padding": null,
            "right": null,
            "top": null,
            "visibility": null,
            "width": null
          }
        },
        "bfa871063bec4915ba3f3dd556c0c7c7": {
          "model_module": "@jupyter-widgets/controls",
          "model_module_version": "1.5.0",
          "model_name": "FloatProgressModel",
          "state": {
            "_dom_classes": [],
            "_model_module": "@jupyter-widgets/controls",
            "_model_module_version": "1.5.0",
            "_model_name": "FloatProgressModel",
            "_view_count": null,
            "_view_module": "@jupyter-widgets/controls",
            "_view_module_version": "1.5.0",
            "_view_name": "ProgressView",
            "bar_style": "success",
            "description": "",
            "description_tooltip": null,
            "layout": "IPY_MODEL_4c79d4c86a2d42c996b07ce86cf9c748",
            "max": 46830571,
            "min": 0,
            "orientation": "horizontal",
            "style": "IPY_MODEL_3804996adf7646c6b89510fb8ac1af82",
            "value": 46830571
          }
        },
        "bfc181b6406a46d7938e9780197afea9": {
          "model_module": "@jupyter-widgets/controls",
          "model_module_version": "1.5.0",
          "model_name": "DescriptionStyleModel",
          "state": {
            "_model_module": "@jupyter-widgets/controls",
            "_model_module_version": "1.5.0",
            "_model_name": "DescriptionStyleModel",
            "_view_count": null,
            "_view_module": "@jupyter-widgets/base",
            "_view_module_version": "1.2.0",
            "_view_name": "StyleView",
            "description_width": ""
          }
        },
        "c2227131211b48519be55666a2db5612": {
          "model_module": "@jupyter-widgets/controls",
          "model_module_version": "1.5.0",
          "model_name": "HBoxModel",
          "state": {
            "_dom_classes": [],
            "_model_module": "@jupyter-widgets/controls",
            "_model_module_version": "1.5.0",
            "_model_name": "HBoxModel",
            "_view_count": null,
            "_view_module": "@jupyter-widgets/controls",
            "_view_module_version": "1.5.0",
            "_view_name": "HBoxView",
            "box_style": "",
            "children": [
              "IPY_MODEL_8c6d077be8a44ee18f5a21ad54600741",
              "IPY_MODEL_bfa871063bec4915ba3f3dd556c0c7c7",
              "IPY_MODEL_23a51395236f417fb8a46e593394a536"
            ],
            "layout": "IPY_MODEL_2a00b54928c340188b62ee416871c723"
          }
        },
        "f2a8ee746a6b456bb0a4bc72a0cb6736": {
          "model_module": "@jupyter-widgets/controls",
          "model_module_version": "1.5.0",
          "model_name": "DescriptionStyleModel",
          "state": {
            "_model_module": "@jupyter-widgets/controls",
            "_model_module_version": "1.5.0",
            "_model_name": "DescriptionStyleModel",
            "_view_count": null,
            "_view_module": "@jupyter-widgets/base",
            "_view_module_version": "1.2.0",
            "_view_name": "StyleView",
            "description_width": ""
          }
        },
        "3a7c5cc27b2d4a1f95c75ebb41027f73": {
          "model_module": "@jupyter-widgets/controls",
          "model_name": "HBoxModel",
          "model_module_version": "1.5.0",
          "state": {
            "_dom_classes": [],
            "_model_module": "@jupyter-widgets/controls",
            "_model_module_version": "1.5.0",
            "_model_name": "HBoxModel",
            "_view_count": null,
            "_view_module": "@jupyter-widgets/controls",
            "_view_module_version": "1.5.0",
            "_view_name": "HBoxView",
            "box_style": "",
            "children": [
              "IPY_MODEL_3af9581096414a5c825ce2ce2054c3cc",
              "IPY_MODEL_bcef9c3b25394dd696d722f546ba4a4a",
              "IPY_MODEL_7cf3355b515e4087bdbaffe30f51f3ad"
            ],
            "layout": "IPY_MODEL_2b36d4a9377d4baaad62906c48a4dbba"
          }
        },
        "3af9581096414a5c825ce2ce2054c3cc": {
          "model_module": "@jupyter-widgets/controls",
          "model_name": "HTMLModel",
          "model_module_version": "1.5.0",
          "state": {
            "_dom_classes": [],
            "_model_module": "@jupyter-widgets/controls",
            "_model_module_version": "1.5.0",
            "_model_name": "HTMLModel",
            "_view_count": null,
            "_view_module": "@jupyter-widgets/controls",
            "_view_module_version": "1.5.0",
            "_view_name": "HTMLView",
            "description": "",
            "description_tooltip": null,
            "layout": "IPY_MODEL_3730f3baf6a24752b90b6634e50a18e5",
            "placeholder": "​",
            "style": "IPY_MODEL_90edd4f1b0ee4f94bd052658fbc00021",
            "value": "100%"
          }
        },
        "bcef9c3b25394dd696d722f546ba4a4a": {
          "model_module": "@jupyter-widgets/controls",
          "model_name": "FloatProgressModel",
          "model_module_version": "1.5.0",
          "state": {
            "_dom_classes": [],
            "_model_module": "@jupyter-widgets/controls",
            "_model_module_version": "1.5.0",
            "_model_name": "FloatProgressModel",
            "_view_count": null,
            "_view_module": "@jupyter-widgets/controls",
            "_view_module_version": "1.5.0",
            "_view_name": "ProgressView",
            "bar_style": "success",
            "description": "",
            "description_tooltip": null,
            "layout": "IPY_MODEL_7946cd645d47430a8ef9f3868c644e69",
            "max": 108949747,
            "min": 0,
            "orientation": "horizontal",
            "style": "IPY_MODEL_137e87bd56f74c039bcaa3e0db6f4efe",
            "value": 108949747
          }
        },
        "7cf3355b515e4087bdbaffe30f51f3ad": {
          "model_module": "@jupyter-widgets/controls",
          "model_name": "HTMLModel",
          "model_module_version": "1.5.0",
          "state": {
            "_dom_classes": [],
            "_model_module": "@jupyter-widgets/controls",
            "_model_module_version": "1.5.0",
            "_model_name": "HTMLModel",
            "_view_count": null,
            "_view_module": "@jupyter-widgets/controls",
            "_view_module_version": "1.5.0",
            "_view_name": "HTMLView",
            "description": "",
            "description_tooltip": null,
            "layout": "IPY_MODEL_befbbf0e4a8b40f0917795d322d35702",
            "placeholder": "​",
            "style": "IPY_MODEL_ba04bc06b8cb454d9f21c636134785ed",
            "value": " 104M/104M [00:00&lt;00:00, 196MB/s]"
          }
        },
        "2b36d4a9377d4baaad62906c48a4dbba": {
          "model_module": "@jupyter-widgets/base",
          "model_name": "LayoutModel",
          "model_module_version": "1.2.0",
          "state": {
            "_model_module": "@jupyter-widgets/base",
            "_model_module_version": "1.2.0",
            "_model_name": "LayoutModel",
            "_view_count": null,
            "_view_module": "@jupyter-widgets/base",
            "_view_module_version": "1.2.0",
            "_view_name": "LayoutView",
            "align_content": null,
            "align_items": null,
            "align_self": null,
            "border": null,
            "bottom": null,
            "display": null,
            "flex": null,
            "flex_flow": null,
            "grid_area": null,
            "grid_auto_columns": null,
            "grid_auto_flow": null,
            "grid_auto_rows": null,
            "grid_column": null,
            "grid_gap": null,
            "grid_row": null,
            "grid_template_areas": null,
            "grid_template_columns": null,
            "grid_template_rows": null,
            "height": null,
            "justify_content": null,
            "justify_items": null,
            "left": null,
            "margin": null,
            "max_height": null,
            "max_width": null,
            "min_height": null,
            "min_width": null,
            "object_fit": null,
            "object_position": null,
            "order": null,
            "overflow": null,
            "overflow_x": null,
            "overflow_y": null,
            "padding": null,
            "right": null,
            "top": null,
            "visibility": null,
            "width": null
          }
        },
        "3730f3baf6a24752b90b6634e50a18e5": {
          "model_module": "@jupyter-widgets/base",
          "model_name": "LayoutModel",
          "model_module_version": "1.2.0",
          "state": {
            "_model_module": "@jupyter-widgets/base",
            "_model_module_version": "1.2.0",
            "_model_name": "LayoutModel",
            "_view_count": null,
            "_view_module": "@jupyter-widgets/base",
            "_view_module_version": "1.2.0",
            "_view_name": "LayoutView",
            "align_content": null,
            "align_items": null,
            "align_self": null,
            "border": null,
            "bottom": null,
            "display": null,
            "flex": null,
            "flex_flow": null,
            "grid_area": null,
            "grid_auto_columns": null,
            "grid_auto_flow": null,
            "grid_auto_rows": null,
            "grid_column": null,
            "grid_gap": null,
            "grid_row": null,
            "grid_template_areas": null,
            "grid_template_columns": null,
            "grid_template_rows": null,
            "height": null,
            "justify_content": null,
            "justify_items": null,
            "left": null,
            "margin": null,
            "max_height": null,
            "max_width": null,
            "min_height": null,
            "min_width": null,
            "object_fit": null,
            "object_position": null,
            "order": null,
            "overflow": null,
            "overflow_x": null,
            "overflow_y": null,
            "padding": null,
            "right": null,
            "top": null,
            "visibility": null,
            "width": null
          }
        },
        "90edd4f1b0ee4f94bd052658fbc00021": {
          "model_module": "@jupyter-widgets/controls",
          "model_name": "DescriptionStyleModel",
          "model_module_version": "1.5.0",
          "state": {
            "_model_module": "@jupyter-widgets/controls",
            "_model_module_version": "1.5.0",
            "_model_name": "DescriptionStyleModel",
            "_view_count": null,
            "_view_module": "@jupyter-widgets/base",
            "_view_module_version": "1.2.0",
            "_view_name": "StyleView",
            "description_width": ""
          }
        },
        "7946cd645d47430a8ef9f3868c644e69": {
          "model_module": "@jupyter-widgets/base",
          "model_name": "LayoutModel",
          "model_module_version": "1.2.0",
          "state": {
            "_model_module": "@jupyter-widgets/base",
            "_model_module_version": "1.2.0",
            "_model_name": "LayoutModel",
            "_view_count": null,
            "_view_module": "@jupyter-widgets/base",
            "_view_module_version": "1.2.0",
            "_view_name": "LayoutView",
            "align_content": null,
            "align_items": null,
            "align_self": null,
            "border": null,
            "bottom": null,
            "display": null,
            "flex": null,
            "flex_flow": null,
            "grid_area": null,
            "grid_auto_columns": null,
            "grid_auto_flow": null,
            "grid_auto_rows": null,
            "grid_column": null,
            "grid_gap": null,
            "grid_row": null,
            "grid_template_areas": null,
            "grid_template_columns": null,
            "grid_template_rows": null,
            "height": null,
            "justify_content": null,
            "justify_items": null,
            "left": null,
            "margin": null,
            "max_height": null,
            "max_width": null,
            "min_height": null,
            "min_width": null,
            "object_fit": null,
            "object_position": null,
            "order": null,
            "overflow": null,
            "overflow_x": null,
            "overflow_y": null,
            "padding": null,
            "right": null,
            "top": null,
            "visibility": null,
            "width": null
          }
        },
        "137e87bd56f74c039bcaa3e0db6f4efe": {
          "model_module": "@jupyter-widgets/controls",
          "model_name": "ProgressStyleModel",
          "model_module_version": "1.5.0",
          "state": {
            "_model_module": "@jupyter-widgets/controls",
            "_model_module_version": "1.5.0",
            "_model_name": "ProgressStyleModel",
            "_view_count": null,
            "_view_module": "@jupyter-widgets/base",
            "_view_module_version": "1.2.0",
            "_view_name": "StyleView",
            "bar_color": null,
            "description_width": ""
          }
        },
        "befbbf0e4a8b40f0917795d322d35702": {
          "model_module": "@jupyter-widgets/base",
          "model_name": "LayoutModel",
          "model_module_version": "1.2.0",
          "state": {
            "_model_module": "@jupyter-widgets/base",
            "_model_module_version": "1.2.0",
            "_model_name": "LayoutModel",
            "_view_count": null,
            "_view_module": "@jupyter-widgets/base",
            "_view_module_version": "1.2.0",
            "_view_name": "LayoutView",
            "align_content": null,
            "align_items": null,
            "align_self": null,
            "border": null,
            "bottom": null,
            "display": null,
            "flex": null,
            "flex_flow": null,
            "grid_area": null,
            "grid_auto_columns": null,
            "grid_auto_flow": null,
            "grid_auto_rows": null,
            "grid_column": null,
            "grid_gap": null,
            "grid_row": null,
            "grid_template_areas": null,
            "grid_template_columns": null,
            "grid_template_rows": null,
            "height": null,
            "justify_content": null,
            "justify_items": null,
            "left": null,
            "margin": null,
            "max_height": null,
            "max_width": null,
            "min_height": null,
            "min_width": null,
            "object_fit": null,
            "object_position": null,
            "order": null,
            "overflow": null,
            "overflow_x": null,
            "overflow_y": null,
            "padding": null,
            "right": null,
            "top": null,
            "visibility": null,
            "width": null
          }
        },
        "ba04bc06b8cb454d9f21c636134785ed": {
          "model_module": "@jupyter-widgets/controls",
          "model_name": "DescriptionStyleModel",
          "model_module_version": "1.5.0",
          "state": {
            "_model_module": "@jupyter-widgets/controls",
            "_model_module_version": "1.5.0",
            "_model_name": "DescriptionStyleModel",
            "_view_count": null,
            "_view_module": "@jupyter-widgets/base",
            "_view_module_version": "1.2.0",
            "_view_name": "StyleView",
            "description_width": ""
          }
        },
        "887f68f426694a5bab87ecc0b9ebae88": {
          "model_module": "@jupyter-widgets/controls",
          "model_name": "HBoxModel",
          "model_module_version": "1.5.0",
          "state": {
            "_dom_classes": [],
            "_model_module": "@jupyter-widgets/controls",
            "_model_module_version": "1.5.0",
            "_model_name": "HBoxModel",
            "_view_count": null,
            "_view_module": "@jupyter-widgets/controls",
            "_view_module_version": "1.5.0",
            "_view_name": "HBoxView",
            "box_style": "",
            "children": [
              "IPY_MODEL_c6ff5118d74a47bb87a5ecb58de07394",
              "IPY_MODEL_9491fb00c3604e719c656c3a5da6da8f",
              "IPY_MODEL_5ea28f43de8041168b1320b34abbc8d6"
            ],
            "layout": "IPY_MODEL_71b09b6e07b1480ab5a4542c434a2e32"
          }
        },
        "c6ff5118d74a47bb87a5ecb58de07394": {
          "model_module": "@jupyter-widgets/controls",
          "model_name": "HTMLModel",
          "model_module_version": "1.5.0",
          "state": {
            "_dom_classes": [],
            "_model_module": "@jupyter-widgets/controls",
            "_model_module_version": "1.5.0",
            "_model_name": "HTMLModel",
            "_view_count": null,
            "_view_module": "@jupyter-widgets/controls",
            "_view_module_version": "1.5.0",
            "_view_name": "HTMLView",
            "description": "",
            "description_tooltip": null,
            "layout": "IPY_MODEL_60925580d16a46d6851604be527316a1",
            "placeholder": "​",
            "style": "IPY_MODEL_752b2b4de93249a9a864a9aefc52cc7b",
            "value": "100%"
          }
        },
        "9491fb00c3604e719c656c3a5da6da8f": {
          "model_module": "@jupyter-widgets/controls",
          "model_name": "FloatProgressModel",
          "model_module_version": "1.5.0",
          "state": {
            "_dom_classes": [],
            "_model_module": "@jupyter-widgets/controls",
            "_model_module_version": "1.5.0",
            "_model_name": "FloatProgressModel",
            "_view_count": null,
            "_view_module": "@jupyter-widgets/controls",
            "_view_module_version": "1.5.0",
            "_view_name": "ProgressView",
            "bar_style": "success",
            "description": "",
            "description_tooltip": null,
            "layout": "IPY_MODEL_fb3ae587014f49bd9fb45b7d8cfdbd18",
            "max": 553433881,
            "min": 0,
            "orientation": "horizontal",
            "style": "IPY_MODEL_995016fca2644ff9a969ae177104ffd2",
            "value": 553433881
          }
        },
        "5ea28f43de8041168b1320b34abbc8d6": {
          "model_module": "@jupyter-widgets/controls",
          "model_name": "HTMLModel",
          "model_module_version": "1.5.0",
          "state": {
            "_dom_classes": [],
            "_model_module": "@jupyter-widgets/controls",
            "_model_module_version": "1.5.0",
            "_model_name": "HTMLModel",
            "_view_count": null,
            "_view_module": "@jupyter-widgets/controls",
            "_view_module_version": "1.5.0",
            "_view_name": "HTMLView",
            "description": "",
            "description_tooltip": null,
            "layout": "IPY_MODEL_8713ae2b181343ffab9be2802b0b426c",
            "placeholder": "​",
            "style": "IPY_MODEL_04ff34a7853a4a4a99a1822c9bdf4159",
            "value": " 528M/528M [00:02&lt;00:00, 258MB/s]"
          }
        },
        "71b09b6e07b1480ab5a4542c434a2e32": {
          "model_module": "@jupyter-widgets/base",
          "model_name": "LayoutModel",
          "model_module_version": "1.2.0",
          "state": {
            "_model_module": "@jupyter-widgets/base",
            "_model_module_version": "1.2.0",
            "_model_name": "LayoutModel",
            "_view_count": null,
            "_view_module": "@jupyter-widgets/base",
            "_view_module_version": "1.2.0",
            "_view_name": "LayoutView",
            "align_content": null,
            "align_items": null,
            "align_self": null,
            "border": null,
            "bottom": null,
            "display": null,
            "flex": null,
            "flex_flow": null,
            "grid_area": null,
            "grid_auto_columns": null,
            "grid_auto_flow": null,
            "grid_auto_rows": null,
            "grid_column": null,
            "grid_gap": null,
            "grid_row": null,
            "grid_template_areas": null,
            "grid_template_columns": null,
            "grid_template_rows": null,
            "height": null,
            "justify_content": null,
            "justify_items": null,
            "left": null,
            "margin": null,
            "max_height": null,
            "max_width": null,
            "min_height": null,
            "min_width": null,
            "object_fit": null,
            "object_position": null,
            "order": null,
            "overflow": null,
            "overflow_x": null,
            "overflow_y": null,
            "padding": null,
            "right": null,
            "top": null,
            "visibility": null,
            "width": null
          }
        },
        "60925580d16a46d6851604be527316a1": {
          "model_module": "@jupyter-widgets/base",
          "model_name": "LayoutModel",
          "model_module_version": "1.2.0",
          "state": {
            "_model_module": "@jupyter-widgets/base",
            "_model_module_version": "1.2.0",
            "_model_name": "LayoutModel",
            "_view_count": null,
            "_view_module": "@jupyter-widgets/base",
            "_view_module_version": "1.2.0",
            "_view_name": "LayoutView",
            "align_content": null,
            "align_items": null,
            "align_self": null,
            "border": null,
            "bottom": null,
            "display": null,
            "flex": null,
            "flex_flow": null,
            "grid_area": null,
            "grid_auto_columns": null,
            "grid_auto_flow": null,
            "grid_auto_rows": null,
            "grid_column": null,
            "grid_gap": null,
            "grid_row": null,
            "grid_template_areas": null,
            "grid_template_columns": null,
            "grid_template_rows": null,
            "height": null,
            "justify_content": null,
            "justify_items": null,
            "left": null,
            "margin": null,
            "max_height": null,
            "max_width": null,
            "min_height": null,
            "min_width": null,
            "object_fit": null,
            "object_position": null,
            "order": null,
            "overflow": null,
            "overflow_x": null,
            "overflow_y": null,
            "padding": null,
            "right": null,
            "top": null,
            "visibility": null,
            "width": null
          }
        },
        "752b2b4de93249a9a864a9aefc52cc7b": {
          "model_module": "@jupyter-widgets/controls",
          "model_name": "DescriptionStyleModel",
          "model_module_version": "1.5.0",
          "state": {
            "_model_module": "@jupyter-widgets/controls",
            "_model_module_version": "1.5.0",
            "_model_name": "DescriptionStyleModel",
            "_view_count": null,
            "_view_module": "@jupyter-widgets/base",
            "_view_module_version": "1.2.0",
            "_view_name": "StyleView",
            "description_width": ""
          }
        },
        "fb3ae587014f49bd9fb45b7d8cfdbd18": {
          "model_module": "@jupyter-widgets/base",
          "model_name": "LayoutModel",
          "model_module_version": "1.2.0",
          "state": {
            "_model_module": "@jupyter-widgets/base",
            "_model_module_version": "1.2.0",
            "_model_name": "LayoutModel",
            "_view_count": null,
            "_view_module": "@jupyter-widgets/base",
            "_view_module_version": "1.2.0",
            "_view_name": "LayoutView",
            "align_content": null,
            "align_items": null,
            "align_self": null,
            "border": null,
            "bottom": null,
            "display": null,
            "flex": null,
            "flex_flow": null,
            "grid_area": null,
            "grid_auto_columns": null,
            "grid_auto_flow": null,
            "grid_auto_rows": null,
            "grid_column": null,
            "grid_gap": null,
            "grid_row": null,
            "grid_template_areas": null,
            "grid_template_columns": null,
            "grid_template_rows": null,
            "height": null,
            "justify_content": null,
            "justify_items": null,
            "left": null,
            "margin": null,
            "max_height": null,
            "max_width": null,
            "min_height": null,
            "min_width": null,
            "object_fit": null,
            "object_position": null,
            "order": null,
            "overflow": null,
            "overflow_x": null,
            "overflow_y": null,
            "padding": null,
            "right": null,
            "top": null,
            "visibility": null,
            "width": null
          }
        },
        "995016fca2644ff9a969ae177104ffd2": {
          "model_module": "@jupyter-widgets/controls",
          "model_name": "ProgressStyleModel",
          "model_module_version": "1.5.0",
          "state": {
            "_model_module": "@jupyter-widgets/controls",
            "_model_module_version": "1.5.0",
            "_model_name": "ProgressStyleModel",
            "_view_count": null,
            "_view_module": "@jupyter-widgets/base",
            "_view_module_version": "1.2.0",
            "_view_name": "StyleView",
            "bar_color": null,
            "description_width": ""
          }
        },
        "8713ae2b181343ffab9be2802b0b426c": {
          "model_module": "@jupyter-widgets/base",
          "model_name": "LayoutModel",
          "model_module_version": "1.2.0",
          "state": {
            "_model_module": "@jupyter-widgets/base",
            "_model_module_version": "1.2.0",
            "_model_name": "LayoutModel",
            "_view_count": null,
            "_view_module": "@jupyter-widgets/base",
            "_view_module_version": "1.2.0",
            "_view_name": "LayoutView",
            "align_content": null,
            "align_items": null,
            "align_self": null,
            "border": null,
            "bottom": null,
            "display": null,
            "flex": null,
            "flex_flow": null,
            "grid_area": null,
            "grid_auto_columns": null,
            "grid_auto_flow": null,
            "grid_auto_rows": null,
            "grid_column": null,
            "grid_gap": null,
            "grid_row": null,
            "grid_template_areas": null,
            "grid_template_columns": null,
            "grid_template_rows": null,
            "height": null,
            "justify_content": null,
            "justify_items": null,
            "left": null,
            "margin": null,
            "max_height": null,
            "max_width": null,
            "min_height": null,
            "min_width": null,
            "object_fit": null,
            "object_position": null,
            "order": null,
            "overflow": null,
            "overflow_x": null,
            "overflow_y": null,
            "padding": null,
            "right": null,
            "top": null,
            "visibility": null,
            "width": null
          }
        },
        "04ff34a7853a4a4a99a1822c9bdf4159": {
          "model_module": "@jupyter-widgets/controls",
          "model_name": "DescriptionStyleModel",
          "model_module_version": "1.5.0",
          "state": {
            "_model_module": "@jupyter-widgets/controls",
            "_model_module_version": "1.5.0",
            "_model_name": "DescriptionStyleModel",
            "_view_count": null,
            "_view_module": "@jupyter-widgets/base",
            "_view_module_version": "1.2.0",
            "_view_name": "StyleView",
            "description_width": ""
          }
        },
        "6c7fd6de11bb45b5afa47b23323e7846": {
          "model_module": "@jupyter-widgets/controls",
          "model_name": "HBoxModel",
          "model_module_version": "1.5.0",
          "state": {
            "_dom_classes": [],
            "_model_module": "@jupyter-widgets/controls",
            "_model_module_version": "1.5.0",
            "_model_name": "HBoxModel",
            "_view_count": null,
            "_view_module": "@jupyter-widgets/controls",
            "_view_module_version": "1.5.0",
            "_view_name": "HBoxView",
            "box_style": "",
            "children": [
              "IPY_MODEL_7e96edcf7ee64ab0a00d754f16d4cf7b",
              "IPY_MODEL_c7612201e1874f5f8976af6bbf1dbabb",
              "IPY_MODEL_1bddde8474974a4ca6a296f355ec5d8f"
            ],
            "layout": "IPY_MODEL_09c4140d1b4a4ce89ec559adb7d47018"
          }
        },
        "7e96edcf7ee64ab0a00d754f16d4cf7b": {
          "model_module": "@jupyter-widgets/controls",
          "model_name": "HTMLModel",
          "model_module_version": "1.5.0",
          "state": {
            "_dom_classes": [],
            "_model_module": "@jupyter-widgets/controls",
            "_model_module_version": "1.5.0",
            "_model_name": "HTMLModel",
            "_view_count": null,
            "_view_module": "@jupyter-widgets/controls",
            "_view_module_version": "1.5.0",
            "_view_name": "HTMLView",
            "description": "",
            "description_tooltip": null,
            "layout": "IPY_MODEL_924ef627775c4d629972614e703aa5e5",
            "placeholder": "​",
            "style": "IPY_MODEL_2bf62f844b8e4a24be7c05b998156294",
            "value": "100%"
          }
        },
        "c7612201e1874f5f8976af6bbf1dbabb": {
          "model_module": "@jupyter-widgets/controls",
          "model_name": "FloatProgressModel",
          "model_module_version": "1.5.0",
          "state": {
            "_dom_classes": [],
            "_model_module": "@jupyter-widgets/controls",
            "_model_module_version": "1.5.0",
            "_model_name": "FloatProgressModel",
            "_view_count": null,
            "_view_module": "@jupyter-widgets/controls",
            "_view_module_version": "1.5.0",
            "_view_name": "ProgressView",
            "bar_style": "success",
            "description": "",
            "description_tooltip": null,
            "layout": "IPY_MODEL_d6f5e792d1564a55af077a1744db08aa",
            "max": 46830571,
            "min": 0,
            "orientation": "horizontal",
            "style": "IPY_MODEL_3c47428948ec4c0f843661b345dba88b",
            "value": 46830571
          }
        },
        "1bddde8474974a4ca6a296f355ec5d8f": {
          "model_module": "@jupyter-widgets/controls",
          "model_name": "HTMLModel",
          "model_module_version": "1.5.0",
          "state": {
            "_dom_classes": [],
            "_model_module": "@jupyter-widgets/controls",
            "_model_module_version": "1.5.0",
            "_model_name": "HTMLModel",
            "_view_count": null,
            "_view_module": "@jupyter-widgets/controls",
            "_view_module_version": "1.5.0",
            "_view_name": "HTMLView",
            "description": "",
            "description_tooltip": null,
            "layout": "IPY_MODEL_7ca1a3478ddf47adb004446e5f52339a",
            "placeholder": "​",
            "style": "IPY_MODEL_0d95ef51435e4667a2ae3a50c530f52b",
            "value": " 44.7M/44.7M [00:00&lt;00:00, 159MB/s]"
          }
        },
        "09c4140d1b4a4ce89ec559adb7d47018": {
          "model_module": "@jupyter-widgets/base",
          "model_name": "LayoutModel",
          "model_module_version": "1.2.0",
          "state": {
            "_model_module": "@jupyter-widgets/base",
            "_model_module_version": "1.2.0",
            "_model_name": "LayoutModel",
            "_view_count": null,
            "_view_module": "@jupyter-widgets/base",
            "_view_module_version": "1.2.0",
            "_view_name": "LayoutView",
            "align_content": null,
            "align_items": null,
            "align_self": null,
            "border": null,
            "bottom": null,
            "display": null,
            "flex": null,
            "flex_flow": null,
            "grid_area": null,
            "grid_auto_columns": null,
            "grid_auto_flow": null,
            "grid_auto_rows": null,
            "grid_column": null,
            "grid_gap": null,
            "grid_row": null,
            "grid_template_areas": null,
            "grid_template_columns": null,
            "grid_template_rows": null,
            "height": null,
            "justify_content": null,
            "justify_items": null,
            "left": null,
            "margin": null,
            "max_height": null,
            "max_width": null,
            "min_height": null,
            "min_width": null,
            "object_fit": null,
            "object_position": null,
            "order": null,
            "overflow": null,
            "overflow_x": null,
            "overflow_y": null,
            "padding": null,
            "right": null,
            "top": null,
            "visibility": null,
            "width": null
          }
        },
        "924ef627775c4d629972614e703aa5e5": {
          "model_module": "@jupyter-widgets/base",
          "model_name": "LayoutModel",
          "model_module_version": "1.2.0",
          "state": {
            "_model_module": "@jupyter-widgets/base",
            "_model_module_version": "1.2.0",
            "_model_name": "LayoutModel",
            "_view_count": null,
            "_view_module": "@jupyter-widgets/base",
            "_view_module_version": "1.2.0",
            "_view_name": "LayoutView",
            "align_content": null,
            "align_items": null,
            "align_self": null,
            "border": null,
            "bottom": null,
            "display": null,
            "flex": null,
            "flex_flow": null,
            "grid_area": null,
            "grid_auto_columns": null,
            "grid_auto_flow": null,
            "grid_auto_rows": null,
            "grid_column": null,
            "grid_gap": null,
            "grid_row": null,
            "grid_template_areas": null,
            "grid_template_columns": null,
            "grid_template_rows": null,
            "height": null,
            "justify_content": null,
            "justify_items": null,
            "left": null,
            "margin": null,
            "max_height": null,
            "max_width": null,
            "min_height": null,
            "min_width": null,
            "object_fit": null,
            "object_position": null,
            "order": null,
            "overflow": null,
            "overflow_x": null,
            "overflow_y": null,
            "padding": null,
            "right": null,
            "top": null,
            "visibility": null,
            "width": null
          }
        },
        "2bf62f844b8e4a24be7c05b998156294": {
          "model_module": "@jupyter-widgets/controls",
          "model_name": "DescriptionStyleModel",
          "model_module_version": "1.5.0",
          "state": {
            "_model_module": "@jupyter-widgets/controls",
            "_model_module_version": "1.5.0",
            "_model_name": "DescriptionStyleModel",
            "_view_count": null,
            "_view_module": "@jupyter-widgets/base",
            "_view_module_version": "1.2.0",
            "_view_name": "StyleView",
            "description_width": ""
          }
        },
        "d6f5e792d1564a55af077a1744db08aa": {
          "model_module": "@jupyter-widgets/base",
          "model_name": "LayoutModel",
          "model_module_version": "1.2.0",
          "state": {
            "_model_module": "@jupyter-widgets/base",
            "_model_module_version": "1.2.0",
            "_model_name": "LayoutModel",
            "_view_count": null,
            "_view_module": "@jupyter-widgets/base",
            "_view_module_version": "1.2.0",
            "_view_name": "LayoutView",
            "align_content": null,
            "align_items": null,
            "align_self": null,
            "border": null,
            "bottom": null,
            "display": null,
            "flex": null,
            "flex_flow": null,
            "grid_area": null,
            "grid_auto_columns": null,
            "grid_auto_flow": null,
            "grid_auto_rows": null,
            "grid_column": null,
            "grid_gap": null,
            "grid_row": null,
            "grid_template_areas": null,
            "grid_template_columns": null,
            "grid_template_rows": null,
            "height": null,
            "justify_content": null,
            "justify_items": null,
            "left": null,
            "margin": null,
            "max_height": null,
            "max_width": null,
            "min_height": null,
            "min_width": null,
            "object_fit": null,
            "object_position": null,
            "order": null,
            "overflow": null,
            "overflow_x": null,
            "overflow_y": null,
            "padding": null,
            "right": null,
            "top": null,
            "visibility": null,
            "width": null
          }
        },
        "3c47428948ec4c0f843661b345dba88b": {
          "model_module": "@jupyter-widgets/controls",
          "model_name": "ProgressStyleModel",
          "model_module_version": "1.5.0",
          "state": {
            "_model_module": "@jupyter-widgets/controls",
            "_model_module_version": "1.5.0",
            "_model_name": "ProgressStyleModel",
            "_view_count": null,
            "_view_module": "@jupyter-widgets/base",
            "_view_module_version": "1.2.0",
            "_view_name": "StyleView",
            "bar_color": null,
            "description_width": ""
          }
        },
        "7ca1a3478ddf47adb004446e5f52339a": {
          "model_module": "@jupyter-widgets/base",
          "model_name": "LayoutModel",
          "model_module_version": "1.2.0",
          "state": {
            "_model_module": "@jupyter-widgets/base",
            "_model_module_version": "1.2.0",
            "_model_name": "LayoutModel",
            "_view_count": null,
            "_view_module": "@jupyter-widgets/base",
            "_view_module_version": "1.2.0",
            "_view_name": "LayoutView",
            "align_content": null,
            "align_items": null,
            "align_self": null,
            "border": null,
            "bottom": null,
            "display": null,
            "flex": null,
            "flex_flow": null,
            "grid_area": null,
            "grid_auto_columns": null,
            "grid_auto_flow": null,
            "grid_auto_rows": null,
            "grid_column": null,
            "grid_gap": null,
            "grid_row": null,
            "grid_template_areas": null,
            "grid_template_columns": null,
            "grid_template_rows": null,
            "height": null,
            "justify_content": null,
            "justify_items": null,
            "left": null,
            "margin": null,
            "max_height": null,
            "max_width": null,
            "min_height": null,
            "min_width": null,
            "object_fit": null,
            "object_position": null,
            "order": null,
            "overflow": null,
            "overflow_x": null,
            "overflow_y": null,
            "padding": null,
            "right": null,
            "top": null,
            "visibility": null,
            "width": null
          }
        },
        "0d95ef51435e4667a2ae3a50c530f52b": {
          "model_module": "@jupyter-widgets/controls",
          "model_name": "DescriptionStyleModel",
          "model_module_version": "1.5.0",
          "state": {
            "_model_module": "@jupyter-widgets/controls",
            "_model_module_version": "1.5.0",
            "_model_name": "DescriptionStyleModel",
            "_view_count": null,
            "_view_module": "@jupyter-widgets/base",
            "_view_module_version": "1.2.0",
            "_view_name": "StyleView",
            "description_width": ""
          }
        },
        "0a5f3f56cc824e5080554585c76d5b11": {
          "model_module": "@jupyter-widgets/controls",
          "model_name": "HBoxModel",
          "model_module_version": "1.5.0",
          "state": {
            "_dom_classes": [],
            "_model_module": "@jupyter-widgets/controls",
            "_model_module_version": "1.5.0",
            "_model_name": "HBoxModel",
            "_view_count": null,
            "_view_module": "@jupyter-widgets/controls",
            "_view_module_version": "1.5.0",
            "_view_name": "HBoxView",
            "box_style": "",
            "children": [
              "IPY_MODEL_e3a2d1c43d7545f1a9bc42bcd71e2c8f",
              "IPY_MODEL_abf6bd27229a4433a7fb7e1eb0eb8e82",
              "IPY_MODEL_666a7bd57a3e4b99919480d18de95db8"
            ],
            "layout": "IPY_MODEL_99b459086caa4fff91506d31a3dfd22e"
          }
        },
        "e3a2d1c43d7545f1a9bc42bcd71e2c8f": {
          "model_module": "@jupyter-widgets/controls",
          "model_name": "HTMLModel",
          "model_module_version": "1.5.0",
          "state": {
            "_dom_classes": [],
            "_model_module": "@jupyter-widgets/controls",
            "_model_module_version": "1.5.0",
            "_model_name": "HTMLModel",
            "_view_count": null,
            "_view_module": "@jupyter-widgets/controls",
            "_view_module_version": "1.5.0",
            "_view_name": "HTMLView",
            "description": "",
            "description_tooltip": null,
            "layout": "IPY_MODEL_ee45e1da8f8846079269e508c0371686",
            "placeholder": "​",
            "style": "IPY_MODEL_81d22ffd385448b7b29b81bf7c90c1a9",
            "value": "100%"
          }
        },
        "abf6bd27229a4433a7fb7e1eb0eb8e82": {
          "model_module": "@jupyter-widgets/controls",
          "model_name": "FloatProgressModel",
          "model_module_version": "1.5.0",
          "state": {
            "_dom_classes": [],
            "_model_module": "@jupyter-widgets/controls",
            "_model_module_version": "1.5.0",
            "_model_name": "FloatProgressModel",
            "_view_count": null,
            "_view_module": "@jupyter-widgets/controls",
            "_view_module_version": "1.5.0",
            "_view_name": "ProgressView",
            "bar_style": "success",
            "description": "",
            "description_tooltip": null,
            "layout": "IPY_MODEL_9e3303ca822f4081a2fc3cee4ae9ba46",
            "max": 553433881,
            "min": 0,
            "orientation": "horizontal",
            "style": "IPY_MODEL_0a6c4442a841446aa187eec0e73fbcc7",
            "value": 553433881
          }
        },
        "666a7bd57a3e4b99919480d18de95db8": {
          "model_module": "@jupyter-widgets/controls",
          "model_name": "HTMLModel",
          "model_module_version": "1.5.0",
          "state": {
            "_dom_classes": [],
            "_model_module": "@jupyter-widgets/controls",
            "_model_module_version": "1.5.0",
            "_model_name": "HTMLModel",
            "_view_count": null,
            "_view_module": "@jupyter-widgets/controls",
            "_view_module_version": "1.5.0",
            "_view_name": "HTMLView",
            "description": "",
            "description_tooltip": null,
            "layout": "IPY_MODEL_8f963d2af06c4741bd55b90f4a0df21c",
            "placeholder": "​",
            "style": "IPY_MODEL_bf497ef4024941ac868d45deb9e44c6d",
            "value": " 528M/528M [00:03&lt;00:00, 154MB/s]"
          }
        },
        "99b459086caa4fff91506d31a3dfd22e": {
          "model_module": "@jupyter-widgets/base",
          "model_name": "LayoutModel",
          "model_module_version": "1.2.0",
          "state": {
            "_model_module": "@jupyter-widgets/base",
            "_model_module_version": "1.2.0",
            "_model_name": "LayoutModel",
            "_view_count": null,
            "_view_module": "@jupyter-widgets/base",
            "_view_module_version": "1.2.0",
            "_view_name": "LayoutView",
            "align_content": null,
            "align_items": null,
            "align_self": null,
            "border": null,
            "bottom": null,
            "display": null,
            "flex": null,
            "flex_flow": null,
            "grid_area": null,
            "grid_auto_columns": null,
            "grid_auto_flow": null,
            "grid_auto_rows": null,
            "grid_column": null,
            "grid_gap": null,
            "grid_row": null,
            "grid_template_areas": null,
            "grid_template_columns": null,
            "grid_template_rows": null,
            "height": null,
            "justify_content": null,
            "justify_items": null,
            "left": null,
            "margin": null,
            "max_height": null,
            "max_width": null,
            "min_height": null,
            "min_width": null,
            "object_fit": null,
            "object_position": null,
            "order": null,
            "overflow": null,
            "overflow_x": null,
            "overflow_y": null,
            "padding": null,
            "right": null,
            "top": null,
            "visibility": null,
            "width": null
          }
        },
        "ee45e1da8f8846079269e508c0371686": {
          "model_module": "@jupyter-widgets/base",
          "model_name": "LayoutModel",
          "model_module_version": "1.2.0",
          "state": {
            "_model_module": "@jupyter-widgets/base",
            "_model_module_version": "1.2.0",
            "_model_name": "LayoutModel",
            "_view_count": null,
            "_view_module": "@jupyter-widgets/base",
            "_view_module_version": "1.2.0",
            "_view_name": "LayoutView",
            "align_content": null,
            "align_items": null,
            "align_self": null,
            "border": null,
            "bottom": null,
            "display": null,
            "flex": null,
            "flex_flow": null,
            "grid_area": null,
            "grid_auto_columns": null,
            "grid_auto_flow": null,
            "grid_auto_rows": null,
            "grid_column": null,
            "grid_gap": null,
            "grid_row": null,
            "grid_template_areas": null,
            "grid_template_columns": null,
            "grid_template_rows": null,
            "height": null,
            "justify_content": null,
            "justify_items": null,
            "left": null,
            "margin": null,
            "max_height": null,
            "max_width": null,
            "min_height": null,
            "min_width": null,
            "object_fit": null,
            "object_position": null,
            "order": null,
            "overflow": null,
            "overflow_x": null,
            "overflow_y": null,
            "padding": null,
            "right": null,
            "top": null,
            "visibility": null,
            "width": null
          }
        },
        "81d22ffd385448b7b29b81bf7c90c1a9": {
          "model_module": "@jupyter-widgets/controls",
          "model_name": "DescriptionStyleModel",
          "model_module_version": "1.5.0",
          "state": {
            "_model_module": "@jupyter-widgets/controls",
            "_model_module_version": "1.5.0",
            "_model_name": "DescriptionStyleModel",
            "_view_count": null,
            "_view_module": "@jupyter-widgets/base",
            "_view_module_version": "1.2.0",
            "_view_name": "StyleView",
            "description_width": ""
          }
        },
        "9e3303ca822f4081a2fc3cee4ae9ba46": {
          "model_module": "@jupyter-widgets/base",
          "model_name": "LayoutModel",
          "model_module_version": "1.2.0",
          "state": {
            "_model_module": "@jupyter-widgets/base",
            "_model_module_version": "1.2.0",
            "_model_name": "LayoutModel",
            "_view_count": null,
            "_view_module": "@jupyter-widgets/base",
            "_view_module_version": "1.2.0",
            "_view_name": "LayoutView",
            "align_content": null,
            "align_items": null,
            "align_self": null,
            "border": null,
            "bottom": null,
            "display": null,
            "flex": null,
            "flex_flow": null,
            "grid_area": null,
            "grid_auto_columns": null,
            "grid_auto_flow": null,
            "grid_auto_rows": null,
            "grid_column": null,
            "grid_gap": null,
            "grid_row": null,
            "grid_template_areas": null,
            "grid_template_columns": null,
            "grid_template_rows": null,
            "height": null,
            "justify_content": null,
            "justify_items": null,
            "left": null,
            "margin": null,
            "max_height": null,
            "max_width": null,
            "min_height": null,
            "min_width": null,
            "object_fit": null,
            "object_position": null,
            "order": null,
            "overflow": null,
            "overflow_x": null,
            "overflow_y": null,
            "padding": null,
            "right": null,
            "top": null,
            "visibility": null,
            "width": null
          }
        },
        "0a6c4442a841446aa187eec0e73fbcc7": {
          "model_module": "@jupyter-widgets/controls",
          "model_name": "ProgressStyleModel",
          "model_module_version": "1.5.0",
          "state": {
            "_model_module": "@jupyter-widgets/controls",
            "_model_module_version": "1.5.0",
            "_model_name": "ProgressStyleModel",
            "_view_count": null,
            "_view_module": "@jupyter-widgets/base",
            "_view_module_version": "1.2.0",
            "_view_name": "StyleView",
            "bar_color": null,
            "description_width": ""
          }
        },
        "8f963d2af06c4741bd55b90f4a0df21c": {
          "model_module": "@jupyter-widgets/base",
          "model_name": "LayoutModel",
          "model_module_version": "1.2.0",
          "state": {
            "_model_module": "@jupyter-widgets/base",
            "_model_module_version": "1.2.0",
            "_model_name": "LayoutModel",
            "_view_count": null,
            "_view_module": "@jupyter-widgets/base",
            "_view_module_version": "1.2.0",
            "_view_name": "LayoutView",
            "align_content": null,
            "align_items": null,
            "align_self": null,
            "border": null,
            "bottom": null,
            "display": null,
            "flex": null,
            "flex_flow": null,
            "grid_area": null,
            "grid_auto_columns": null,
            "grid_auto_flow": null,
            "grid_auto_rows": null,
            "grid_column": null,
            "grid_gap": null,
            "grid_row": null,
            "grid_template_areas": null,
            "grid_template_columns": null,
            "grid_template_rows": null,
            "height": null,
            "justify_content": null,
            "justify_items": null,
            "left": null,
            "margin": null,
            "max_height": null,
            "max_width": null,
            "min_height": null,
            "min_width": null,
            "object_fit": null,
            "object_position": null,
            "order": null,
            "overflow": null,
            "overflow_x": null,
            "overflow_y": null,
            "padding": null,
            "right": null,
            "top": null,
            "visibility": null,
            "width": null
          }
        },
        "bf497ef4024941ac868d45deb9e44c6d": {
          "model_module": "@jupyter-widgets/controls",
          "model_name": "DescriptionStyleModel",
          "model_module_version": "1.5.0",
          "state": {
            "_model_module": "@jupyter-widgets/controls",
            "_model_module_version": "1.5.0",
            "_model_name": "DescriptionStyleModel",
            "_view_count": null,
            "_view_module": "@jupyter-widgets/base",
            "_view_module_version": "1.2.0",
            "_view_name": "StyleView",
            "description_width": ""
          }
        }
      }
    }
  },
  "nbformat": 4,
  "nbformat_minor": 0
}